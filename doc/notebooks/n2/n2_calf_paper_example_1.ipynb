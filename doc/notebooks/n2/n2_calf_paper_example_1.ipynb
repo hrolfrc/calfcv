{
 "cells": [
  {
   "cell_type": "markdown",
   "source": [
    "# The AUC from example 1 of the Calf paper\n",
    "\n",
    "While calfpy yields an auc of 0.875 in example 1 from the Calf paper [1], calfcv produces an auc of 0.82."
   ],
   "metadata": {
    "collapsed": false
   }
  },
  {
   "cell_type": "code",
   "execution_count": 1,
   "outputs": [],
   "source": [
    "# Author: Rolf Carlson, Carlson Research LLC, <hrolfrc@gmail.com>\n",
    "# License: 3-clause BSD"
   ],
   "metadata": {
    "collapsed": false,
    "ExecuteTime": {
     "end_time": "2023-08-21T20:24:04.872259527Z",
     "start_time": "2023-08-21T20:24:04.863865892Z"
    }
   }
  },
  {
   "cell_type": "markdown",
   "source": [
    "### Get the data"
   ],
   "metadata": {
    "collapsed": false
   }
  },
  {
   "cell_type": "code",
   "execution_count": 2,
   "metadata": {
    "collapsed": false,
    "ExecuteTime": {
     "end_time": "2023-08-21T20:24:05.558376401Z",
     "start_time": "2023-08-21T20:24:04.869298059Z"
    }
   },
   "outputs": [],
   "source": [
    "import pandas as pd\n",
    "from sklearn.metrics import roc_auc_score\n",
    "from calfcv import CalfCV, Calf"
   ]
  },
  {
   "cell_type": "code",
   "execution_count": 3,
   "outputs": [],
   "source": [
    "input_file = \"../../../data/n2.csv\"\n",
    "df = pd.read_csv(input_file, header=0, sep=\",\")\n",
    "\n",
    "# The input data is everything except the first column\n",
    "X = df.loc[:, df.columns != 'ctrl/case']\n",
    "# The outcome or diagnoses are in the first ctrl/case column\n",
    "Y = df['ctrl/case']\n",
    "\n",
    "# The header row is the feature set\n",
    "features = list(X.columns)\n",
    "\n",
    "# label the outcomes\n",
    "Y_names = Y.replace({0: 'non_psychotic', 1: 'pre_psychotic'})\n",
    "\n",
    "# glmnet requires float64\n",
    "x = X.to_numpy(dtype='float64')\n",
    "y = Y.to_numpy(dtype='float64')"
   ],
   "metadata": {
    "collapsed": false,
    "ExecuteTime": {
     "end_time": "2023-08-21T20:24:05.586917515Z",
     "start_time": "2023-08-21T20:24:05.559900830Z"
    }
   }
  },
  {
   "cell_type": "markdown",
   "source": [
    "### Data overview\n",
    "\n",
    "Here we look at the feature names, number of features, shape, and category balance."
   ],
   "metadata": {
    "collapsed": false
   }
  },
  {
   "cell_type": "code",
   "execution_count": 4,
   "outputs": [
    {
     "data": {
      "text/plain": "['ADIPOQ', 'SERPINA3', 'AMBP', 'A2M', 'ACE']"
     },
     "execution_count": 4,
     "metadata": {},
     "output_type": "execute_result"
    }
   ],
   "source": [
    "features[0:5]"
   ],
   "metadata": {
    "collapsed": false,
    "ExecuteTime": {
     "end_time": "2023-08-21T20:24:05.628651870Z",
     "start_time": "2023-08-21T20:24:05.576073495Z"
    }
   }
  },
  {
   "cell_type": "code",
   "execution_count": 5,
   "outputs": [
    {
     "data": {
      "text/plain": "9720"
     },
     "execution_count": 5,
     "metadata": {},
     "output_type": "execute_result"
    }
   ],
   "source": [
    "x.size"
   ],
   "metadata": {
    "collapsed": false,
    "ExecuteTime": {
     "end_time": "2023-08-21T20:24:05.629218478Z",
     "start_time": "2023-08-21T20:24:05.582878679Z"
    }
   }
  },
  {
   "cell_type": "code",
   "execution_count": 6,
   "outputs": [
    {
     "data": {
      "text/plain": "(72, 135)"
     },
     "execution_count": 6,
     "metadata": {},
     "output_type": "execute_result"
    }
   ],
   "source": [
    "x.shape"
   ],
   "metadata": {
    "collapsed": false,
    "ExecuteTime": {
     "end_time": "2023-08-21T20:24:05.692746524Z",
     "start_time": "2023-08-21T20:24:05.589033257Z"
    }
   }
  },
  {
   "cell_type": "code",
   "execution_count": 7,
   "outputs": [
    {
     "name": "stdout",
     "output_type": "stream",
     "text": [
      "32 40\n"
     ]
    }
   ],
   "source": [
    "print(list(Y).count(1), list(Y).count(0))"
   ],
   "metadata": {
    "collapsed": false,
    "ExecuteTime": {
     "end_time": "2023-08-21T20:24:05.693204995Z",
     "start_time": "2023-08-21T20:24:05.633270309Z"
    }
   }
  },
  {
   "cell_type": "code",
   "execution_count": 8,
   "outputs": [
    {
     "data": {
      "text/plain": "72"
     },
     "execution_count": 8,
     "metadata": {},
     "output_type": "execute_result"
    }
   ],
   "source": [
    "len(y)"
   ],
   "metadata": {
    "collapsed": false,
    "ExecuteTime": {
     "end_time": "2023-08-21T20:24:05.693638350Z",
     "start_time": "2023-08-21T20:24:05.633467051Z"
    }
   }
  },
  {
   "cell_type": "markdown",
   "source": [
    "### Predict diagnoses"
   ],
   "metadata": {
    "collapsed": false
   }
  },
  {
   "cell_type": "code",
   "execution_count": 9,
   "outputs": [
    {
     "data": {
      "text/plain": "0.78359375"
     },
     "execution_count": 9,
     "metadata": {},
     "output_type": "execute_result"
    }
   ],
   "source": [
    "y_pred = Calf().fit(x, y).predict_proba(x)\n",
    "roc_auc_score(y, y_pred[:, 1])"
   ],
   "metadata": {
    "collapsed": false,
    "ExecuteTime": {
     "end_time": "2023-08-21T20:24:06.000329681Z",
     "start_time": "2023-08-21T20:24:05.633621335Z"
    }
   }
  },
  {
   "cell_type": "markdown",
   "source": [
    "The class probabilities predicted by Calf"
   ],
   "metadata": {
    "collapsed": false
   }
  },
  {
   "cell_type": "code",
   "execution_count": 10,
   "outputs": [
    {
     "data": {
      "text/plain": "array([[0.73105858, 0.26894142],\n       [0.65967676, 0.34032324],\n       [0.67352505, 0.32647495],\n       [0.47684355, 0.52315645],\n       [0.49403688, 0.50596312],\n       [0.63393725, 0.36606275],\n       [0.55006102, 0.44993898],\n       [0.66281609, 0.33718391],\n       [0.62506968, 0.37493032],\n       [0.59501702, 0.40498298],\n       [0.71191589, 0.28808411],\n       [0.55821739, 0.44178261],\n       [0.52240219, 0.47759781],\n       [0.71537548, 0.28462452],\n       [0.6175692 , 0.3824308 ],\n       [0.63651384, 0.36348616],\n       [0.62584695, 0.37415305],\n       [0.55156817, 0.44843183],\n       [0.60770431, 0.39229569],\n       [0.64037289, 0.35962711],\n       [0.44494103, 0.55505897],\n       [0.71615345, 0.28384655],\n       [0.39693984, 0.60306016],\n       [0.52301264, 0.47698736],\n       [0.45921654, 0.54078346],\n       [0.4121336 , 0.5878664 ],\n       [0.62750285, 0.37249715],\n       [0.33856961, 0.66143039],\n       [0.43123335, 0.56876665],\n       [0.59092639, 0.40907361],\n       [0.59729627, 0.40270373],\n       [0.44895471, 0.55104529],\n       [0.41576818, 0.58423182],\n       [0.49810242, 0.50189758],\n       [0.55482325, 0.44517675],\n       [0.44060927, 0.55939073],\n       [0.5029    , 0.4971    ],\n       [0.58781519, 0.41218481],\n       [0.40889401, 0.59110599],\n       [0.54580572, 0.45419428],\n       [0.26894142, 0.73105858],\n       [0.42625083, 0.57374917],\n       [0.36021738, 0.63978262],\n       [0.52808518, 0.47191482],\n       [0.35790598, 0.64209402],\n       [0.44528908, 0.55471092],\n       [0.49834102, 0.50165898],\n       [0.47800375, 0.52199625],\n       [0.71257885, 0.28742115],\n       [0.59224187, 0.40775813],\n       [0.3884741 , 0.6115259 ],\n       [0.50976535, 0.49023465],\n       [0.51407848, 0.48592152],\n       [0.46116416, 0.53883584],\n       [0.47545834, 0.52454166],\n       [0.56882478, 0.43117522],\n       [0.38211921, 0.61788079],\n       [0.43890178, 0.56109822],\n       [0.5723152 , 0.4276848 ],\n       [0.39136154, 0.60863846],\n       [0.41389145, 0.58610855],\n       [0.36282398, 0.63717602],\n       [0.40762356, 0.59237644],\n       [0.36091886, 0.63908114],\n       [0.36917046, 0.63082954],\n       [0.4016057 , 0.5983943 ],\n       [0.45714141, 0.54285859],\n       [0.38248224, 0.61751776],\n       [0.54324483, 0.45675517],\n       [0.43954232, 0.56045768],\n       [0.43985635, 0.56014365],\n       [0.5057918 , 0.4942082 ]])"
     },
     "execution_count": 10,
     "metadata": {},
     "output_type": "execute_result"
    }
   ],
   "source": [
    "y_pred"
   ],
   "metadata": {
    "collapsed": false,
    "ExecuteTime": {
     "end_time": "2023-08-21T20:24:06.084823824Z",
     "start_time": "2023-08-21T20:24:06.002206914Z"
    }
   }
  },
  {
   "cell_type": "code",
   "execution_count": 11,
   "outputs": [
    {
     "data": {
      "text/plain": "0.8242187500000001"
     },
     "execution_count": 11,
     "metadata": {},
     "output_type": "execute_result"
    }
   ],
   "source": [
    "y_pred = CalfCV().fit(x, y).predict_proba(x)\n",
    "roc_auc_score(y, y_pred[:, 1])"
   ],
   "metadata": {
    "collapsed": false,
    "ExecuteTime": {
     "end_time": "2023-08-21T20:24:08.247056534Z",
     "start_time": "2023-08-21T20:24:06.045269995Z"
    }
   }
  },
  {
   "cell_type": "markdown",
   "source": [
    "The classe probabilities predicted by CalfCV"
   ],
   "metadata": {
    "collapsed": false
   }
  },
  {
   "cell_type": "code",
   "execution_count": 12,
   "outputs": [
    {
     "data": {
      "text/plain": "array([[0.57255396, 0.42744604],\n       [0.57190911, 0.42809089],\n       [0.49905191, 0.50094809],\n       [0.37396104, 0.62603896],\n       [0.43673843, 0.56326157],\n       [0.42049986, 0.57950014],\n       [0.58727104, 0.41272896],\n       [0.73105858, 0.26894142],\n       [0.55325599, 0.44674401],\n       [0.53275445, 0.46724555],\n       [0.60855296, 0.39144704],\n       [0.71632012, 0.28367988],\n       [0.47160497, 0.52839503],\n       [0.6000901 , 0.3999099 ],\n       [0.5182401 , 0.4817599 ],\n       [0.61569573, 0.38430427],\n       [0.44520824, 0.55479176],\n       [0.61067857, 0.38932143],\n       [0.43740406, 0.56259594],\n       [0.50806646, 0.49193354],\n       [0.45940988, 0.54059012],\n       [0.5844512 , 0.4155488 ],\n       [0.6167177 , 0.3832823 ],\n       [0.45002242, 0.54997758],\n       [0.48864786, 0.51135214],\n       [0.51369577, 0.48630423],\n       [0.37743322, 0.62256678],\n       [0.45003696, 0.54996304],\n       [0.61891498, 0.38108502],\n       [0.5935698 , 0.4064302 ],\n       [0.45187866, 0.54812134],\n       [0.57869656, 0.42130344],\n       [0.59731614, 0.40268386],\n       [0.54665274, 0.45334726],\n       [0.68688645, 0.31311355],\n       [0.44670906, 0.55329094],\n       [0.4693245 , 0.5306755 ],\n       [0.38162746, 0.61837254],\n       [0.37643876, 0.62356124],\n       [0.57096094, 0.42903906],\n       [0.51437333, 0.48562667],\n       [0.38786473, 0.61213527],\n       [0.46310646, 0.53689354],\n       [0.39080126, 0.60919874],\n       [0.43044281, 0.56955719],\n       [0.39303232, 0.60696768],\n       [0.42280034, 0.57719966],\n       [0.51340885, 0.48659115],\n       [0.26894142, 0.73105858],\n       [0.40361923, 0.59638077],\n       [0.36135889, 0.63864111],\n       [0.39733642, 0.60266358],\n       [0.33561026, 0.66438974],\n       [0.3574579 , 0.6425421 ],\n       [0.52855035, 0.47144965],\n       [0.44461878, 0.55538122],\n       [0.42918205, 0.57081795],\n       [0.36705095, 0.63294905],\n       [0.45142257, 0.54857743],\n       [0.34602883, 0.65397117],\n       [0.39609809, 0.60390191],\n       [0.45418881, 0.54581119],\n       [0.29541473, 0.70458527],\n       [0.53079061, 0.46920939],\n       [0.45560206, 0.54439794],\n       [0.36134196, 0.63865804],\n       [0.34390344, 0.65609656],\n       [0.59190982, 0.40809018],\n       [0.36853881, 0.63146119],\n       [0.41398225, 0.58601775],\n       [0.4007513 , 0.5992487 ],\n       [0.49950364, 0.50049636]])"
     },
     "execution_count": 12,
     "metadata": {},
     "output_type": "execute_result"
    }
   ],
   "source": [
    "y_pred"
   ],
   "metadata": {
    "collapsed": false,
    "ExecuteTime": {
     "end_time": "2023-08-21T20:24:08.345667228Z",
     "start_time": "2023-08-21T20:24:08.249501528Z"
    }
   }
  },
  {
   "cell_type": "code",
   "execution_count": 13,
   "outputs": [
    {
     "data": {
      "text/plain": "0.696875"
     },
     "execution_count": 13,
     "metadata": {},
     "output_type": "execute_result"
    }
   ],
   "source": [
    "y_pred = Calf().fit(x, y).predict(x)\n",
    "roc_auc_score(y, y_pred)"
   ],
   "metadata": {
    "collapsed": false,
    "ExecuteTime": {
     "end_time": "2023-08-21T20:24:08.658874121Z",
     "start_time": "2023-08-21T20:24:08.293200334Z"
    }
   }
  },
  {
   "cell_type": "markdown",
   "source": [
    "The classes predicted by Calf"
   ],
   "metadata": {
    "collapsed": false
   }
  },
  {
   "cell_type": "code",
   "execution_count": 14,
   "outputs": [
    {
     "data": {
      "text/plain": "array([0., 0., 0., 1., 1., 0., 0., 0., 0., 0., 0., 0., 0., 0., 0., 0., 0.,\n       0., 0., 0., 1., 0., 1., 0., 1., 1., 0., 1., 1., 0., 0., 1., 1., 1.,\n       0., 1., 0., 0., 1., 0., 1., 1., 1., 0., 1., 1., 1., 1., 0., 0., 1.,\n       0., 0., 1., 1., 0., 1., 1., 0., 1., 1., 1., 1., 1., 1., 1., 1., 1.,\n       0., 1., 1., 0.])"
     },
     "execution_count": 14,
     "metadata": {},
     "output_type": "execute_result"
    }
   ],
   "source": [
    "y_pred"
   ],
   "metadata": {
    "collapsed": false,
    "ExecuteTime": {
     "end_time": "2023-08-21T20:24:08.695758591Z",
     "start_time": "2023-08-21T20:24:08.659724633Z"
    }
   }
  },
  {
   "cell_type": "code",
   "execution_count": 15,
   "outputs": [
    {
     "data": {
      "text/plain": "0.709375"
     },
     "execution_count": 15,
     "metadata": {},
     "output_type": "execute_result"
    }
   ],
   "source": [
    "y_pred = CalfCV().fit(x, y).predict(x)\n",
    "roc_auc_score(y, y_pred)"
   ],
   "metadata": {
    "collapsed": false,
    "ExecuteTime": {
     "end_time": "2023-08-21T20:24:10.982434320Z",
     "start_time": "2023-08-21T20:24:08.666607210Z"
    }
   }
  },
  {
   "cell_type": "markdown",
   "source": [
    "The classes predicted by CalfCV"
   ],
   "metadata": {
    "collapsed": false
   }
  },
  {
   "cell_type": "code",
   "execution_count": 16,
   "outputs": [
    {
     "data": {
      "text/plain": "array([0., 0., 1., 1., 1., 1., 0., 0., 0., 0., 0., 0., 1., 0., 0., 0., 1.,\n       0., 1., 0., 1., 0., 0., 1., 1., 0., 1., 1., 0., 0., 1., 0., 0., 0.,\n       0., 1., 1., 1., 1., 0., 0., 1., 1., 1., 1., 1., 1., 0., 1., 1., 1.,\n       1., 1., 1., 0., 1., 1., 1., 1., 1., 1., 1., 1., 0., 1., 1., 1., 0.,\n       1., 1., 1., 1.])"
     },
     "execution_count": 16,
     "metadata": {},
     "output_type": "execute_result"
    }
   ],
   "source": [
    "y_pred"
   ],
   "metadata": {
    "collapsed": false,
    "ExecuteTime": {
     "end_time": "2023-08-21T20:24:10.988856254Z",
     "start_time": "2023-08-21T20:24:10.983117939Z"
    }
   }
  },
  {
   "cell_type": "markdown",
   "source": [
    "### References:\n",
    "[1] Jeffries, C.D., Ford, J.R., Tilson, J.L. et al. A greedy regression algorithm with coarse weights offers novel advantages. Sci Rep 12, 5440 (2022). https://doi.org/10.1038/s41598-022-09415-2"
   ],
   "metadata": {
    "collapsed": false
   }
  }
 ],
 "metadata": {
  "celltoolbar": "Raw Cell Format",
  "kernelspec": {
   "display_name": "Python 3",
   "language": "python",
   "name": "python3"
  },
  "language_info": {
   "codemirror_mode": {
    "name": "ipython",
    "version": 3
   },
   "file_extension": ".py",
   "mimetype": "text/x-python",
   "name": "python",
   "nbconvert_exporter": "python",
   "pygments_lexer": "ipython3",
   "version": "3.5.2"
  }
 },
 "nbformat": 4,
 "nbformat_minor": 0
}
