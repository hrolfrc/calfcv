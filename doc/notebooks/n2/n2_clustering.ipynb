{
 "cells": [
  {
   "cell_type": "markdown",
   "source": [
    "# Clustering of the N2 dataset\n",
    "\n",
    "The N2 dataset shows one cluster, supporting the hypothesis that N2 lacks informative features.  N2 has two ground truth classes. and should show two clusters.  The adjusted rand index is zero, indicating that the identified clustering and ground truth, y, are in disagreement."
   ],
   "metadata": {
    "collapsed": false
   }
  },
  {
   "cell_type": "code",
   "execution_count": 19,
   "outputs": [],
   "source": [
    "# Adapted by Rolf Carlson from\n",
    "# (1) A demo of K-Means clustering on the handwritten digits data \n",
    "# https://scikit-learn.org/stable/auto_examples/cluster/plot_kmeans_digits.html"
   ],
   "metadata": {
    "collapsed": false,
    "ExecuteTime": {
     "end_time": "2023-08-21T20:42:34.919738360Z",
     "start_time": "2023-08-21T20:42:34.749024180Z"
    }
   }
  },
  {
   "cell_type": "code",
   "execution_count": 20,
   "outputs": [],
   "source": [
    "import pandas"
   ],
   "metadata": {
    "collapsed": false,
    "ExecuteTime": {
     "end_time": "2023-08-21T20:42:34.962615924Z",
     "start_time": "2023-08-21T20:42:34.757190849Z"
    }
   }
  },
  {
   "cell_type": "code",
   "execution_count": 21,
   "outputs": [],
   "source": [
    "input_file_path = \"../../../data/n2.csv\"\n",
    "df = pandas.read_csv(input_file_path, header=0, sep=\",\")\n",
    "X = df.loc[:, df.columns != 'ctrl/case']\n",
    "Y = df['ctrl/case']"
   ],
   "metadata": {
    "collapsed": false,
    "ExecuteTime": {
     "end_time": "2023-08-21T20:42:34.962827662Z",
     "start_time": "2023-08-21T20:42:34.801283677Z"
    }
   }
  },
  {
   "cell_type": "markdown",
   "source": [
    "## Cluster analysis\n",
    "\n",
    "Clustering is an unsupervised method that may help reveal the number of true classes in the psych data.\n",
    "There is only one cluster observed.  We should get at least two clusters."
   ],
   "metadata": {
    "collapsed": false
   }
  },
  {
   "cell_type": "code",
   "execution_count": 22,
   "outputs": [
    {
     "name": "stdout",
     "output_type": "stream",
     "text": [
      "    Truth  Observed\n",
      "0       0         0\n",
      "1       0         0\n",
      "2       0         0\n",
      "3       0         0\n",
      "4       0         0\n",
      "..    ...       ...\n",
      "67      1         0\n",
      "68      1         0\n",
      "69      1         0\n",
      "70      1         0\n",
      "71      1         0\n",
      "\n",
      "[72 rows x 2 columns]\n",
      "Label edit distance  32\n",
      "Estimated number of clusters: 1\n",
      "Estimated number of noise points: 0\n",
      "Homogeneity: 0.000\n",
      "Completeness: 1.000\n",
      "V-measure: 0.000\n",
      "Adjusted Rand Index: 0.000\n",
      "Adjusted Mutual Information: 0.000\n"
     ]
    }
   ],
   "source": [
    "from nltk.metrics.distance import edit_distance\n",
    "from sklearn.preprocessing import StandardScaler\n",
    "import pandas as pd\n",
    "from sklearn.cluster import OPTICS\n",
    "from sklearn import metrics\n",
    "\n",
    "# Standardize the feature matrix\n",
    "X_s = StandardScaler().fit_transform(X.to_numpy())\n",
    "\n",
    "# Get the ground truth labels\n",
    "labels_true = Y.values.tolist()\n",
    "clust = OPTICS(min_samples=10, min_cluster_size=0.2)\n",
    "\n",
    "# Run the fit and get the labels\n",
    "clust.fit(X)\n",
    "labels = clust.labels_\n",
    "\n",
    "df_label = pd.DataFrame(zip(labels_true, labels), columns=['Truth', 'Observed'])\n",
    "print(df_label)\n",
    "\n",
    "# 37, or about half are different\n",
    "print('Label edit distance ', edit_distance(labels, labels_true))\n",
    "\n",
    "# Number of clusters in labels, ignoring noise if present.\n",
    "n_clusters_ = len(set(labels)) - (1 if -1 in labels else 0)\n",
    "n_noise_ = list(labels).count(-1)\n",
    "\n",
    "print(\"Estimated number of clusters: %d\" % n_clusters_)\n",
    "print(\"Estimated number of noise points: %d\" % n_noise_)\n",
    "\n",
    "print(f\"Homogeneity: {metrics.homogeneity_score(labels_true, labels):.3f}\")\n",
    "print(f\"Completeness: {metrics.completeness_score(labels_true, labels):.3f}\")\n",
    "print(f\"V-measure: {metrics.v_measure_score(labels_true, labels):.3f}\")\n",
    "print(f\"Adjusted Rand Index: {metrics.adjusted_rand_score(labels_true, labels):.3f}\")\n",
    "print(\n",
    "    \"Adjusted Mutual Information:\"\n",
    "    f\" {metrics.adjusted_mutual_info_score(labels_true, labels):.3f}\"\n",
    ")\n",
    "# print(f\"Silhouette Coefficient: {metrics.silhouette_score(X, labels):.3f}\")"
   ],
   "metadata": {
    "collapsed": false,
    "ExecuteTime": {
     "end_time": "2023-08-21T20:42:35.017286200Z",
     "start_time": "2023-08-21T20:42:34.801493959Z"
    }
   }
  },
  {
   "cell_type": "markdown",
   "source": [
    "## Visualize the results on PCA-reduced data\n",
    "\n",
    "\"PCA allows to project the data from the original [135]-dimensional space into a lower dimensional space. Subsequently, we can use PCA to project into a 2-dimensional space and plot the data and the clusters in this new space.\"  https://scikit-learn.org/stable/auto_examples/cluster/plot_kmeans_digits.html"
   ],
   "metadata": {
    "collapsed": false
   }
  },
  {
   "cell_type": "code",
   "execution_count": 23,
   "outputs": [
    {
     "data": {
      "text/plain": "<Figure size 640x480 with 1 Axes>",
      "image/png": "[encoded data removed]"
     },
     "metadata": {},
     "output_type": "display_data"
    }
   ],
   "source": [
    "import matplotlib.pyplot as plt\n",
    "from sklearn.cluster import KMeans\n",
    "from sklearn.decomposition import PCA\n",
    "import numpy as np\n",
    "\n",
    "reduced_data = PCA(n_components=2).fit_transform(X)\n",
    "kmeans = KMeans(init=\"k-means++\", n_clusters=2, n_init=4)\n",
    "kmeans.fit(reduced_data)\n",
    "\n",
    "# Step size of the mesh. Decrease to increase the quality of the VQ.\n",
    "h = 0.01  # point in the mesh [x_min, x_max]x[y_min, y_max].\n",
    "\n",
    "# Plot the decision boundary. For that, we will assign a color to each\n",
    "x_min, x_max = reduced_data[:, 0].min() - 1, reduced_data[:, 0].max() + 1\n",
    "y_min, y_max = reduced_data[:, 1].min() - 1, reduced_data[:, 1].max() + 1\n",
    "xx, yy = np.meshgrid(np.arange(x_min, x_max, h), np.arange(y_min, y_max, h))\n",
    "\n",
    "# Obtain labels for each point in mesh. Use last trained model.\n",
    "Z = kmeans.predict(np.c_[xx.ravel(), yy.ravel()])\n",
    "\n",
    "# Put the result into a color plot\n",
    "Z = Z.reshape(xx.shape)\n",
    "plt.figure(1)\n",
    "plt.clf()\n",
    "plt.imshow(\n",
    "    Z,\n",
    "    interpolation=\"nearest\",\n",
    "    extent=(xx.min(), xx.max(), yy.min(), yy.max()),\n",
    "    cmap=plt.cm.Paired,\n",
    "    aspect=\"auto\",\n",
    "    origin=\"lower\",\n",
    ")\n",
    "\n",
    "plt.plot(reduced_data[:, 0], reduced_data[:, 1], \"k.\", markersize=4)\n",
    "# Plot the centroids as a white X\n",
    "centroids = kmeans.cluster_centers_\n",
    "plt.scatter(\n",
    "    centroids[:, 0],\n",
    "    centroids[:, 1],\n",
    "    marker=\"x\",\n",
    "    s=169,\n",
    "    linewidths=3,\n",
    "    color=\"w\",\n",
    "    zorder=10,\n",
    ")\n",
    "plt.title(\n",
    "    \"K-means clustering on the digits dataset (PCA-reduced data)\\n\"\n",
    "    \"Centroids are marked with white cross\"\n",
    ")\n",
    "plt.xlim(x_min, x_max)\n",
    "plt.ylim(y_min, y_max)\n",
    "plt.xticks(())\n",
    "plt.yticks(())\n",
    "plt.show()"
   ],
   "metadata": {
    "collapsed": false,
    "ExecuteTime": {
     "end_time": "2023-08-21T20:42:35.443134424Z",
     "start_time": "2023-08-21T20:42:34.898761530Z"
    }
   }
  },
  {
   "cell_type": "code",
   "execution_count": 23,
   "outputs": [],
   "source": [],
   "metadata": {
    "collapsed": false,
    "ExecuteTime": {
     "end_time": "2023-08-21T20:42:35.553799820Z",
     "start_time": "2023-08-21T20:42:35.444119443Z"
    }
   }
  }
 ],
 "metadata": {
  "kernelspec": {
   "display_name": "Python 3",
   "language": "python",
   "name": "python3"
  },
  "language_info": {
   "codemirror_mode": {
    "name": "ipython",
    "version": 2
   },
   "file_extension": ".py",
   "mimetype": "text/x-python",
   "name": "python",
   "nbconvert_exporter": "python",
   "pygments_lexer": "ipython2",
   "version": "2.7.6"
  }
 },
 "nbformat": 4,
 "nbformat_minor": 0
}
