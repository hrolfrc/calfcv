{
 "cells": [
  {
   "cell_type": "markdown",
   "source": [
    "# The N2 dataset\n",
    "\n",
    "The N2 dataset provides features that are hypothesized to be informative for a progression to psychosis."
   ],
   "metadata": {
    "collapsed": false
   }
  },
  {
   "cell_type": "code",
   "execution_count": 13,
   "outputs": [],
   "source": [
    "import pandas"
   ],
   "metadata": {
    "collapsed": false,
    "ExecuteTime": {
     "end_time": "2023-08-21T20:29:07.432867850Z",
     "start_time": "2023-08-21T20:29:07.193171323Z"
    }
   }
  },
  {
   "cell_type": "markdown",
   "source": [
    "Get the input file path from the calf project"
   ],
   "metadata": {
    "collapsed": false
   }
  },
  {
   "cell_type": "code",
   "execution_count": 14,
   "outputs": [],
   "source": [
    "input_file_path = \"../../../data/n2.csv\""
   ],
   "metadata": {
    "collapsed": false,
    "ExecuteTime": {
     "end_time": "2023-08-21T20:29:07.547902858Z",
     "start_time": "2023-08-21T20:29:07.205379026Z"
    }
   }
  },
  {
   "cell_type": "markdown",
   "source": [
    "Read the input file into a DataFrame"
   ],
   "metadata": {
    "collapsed": false
   }
  },
  {
   "cell_type": "code",
   "execution_count": 15,
   "outputs": [
    {
     "data": {
      "text/plain": "   ctrl/case  ADIPOQ  SERPINA3    AMBP     A2M     ACE     AGT  APOA1   APOA2  \\\n0          0  1.1538    -1.008  0.4650 -0.6181 -0.9350  1.7169  0.974  1.7821   \n1          0 -0.7661    -1.039  1.2479  0.2220 -0.7140  2.6709 -0.275  0.1680   \n2          0 -0.2721    -0.766 -0.7480 -1.0371  0.0459 -0.2940  0.046  0.9320   \n3          0 -0.8201    -1.281  0.4650 -0.1980  0.8059  0.8980 -0.954 -0.4270   \n4          0  0.0019    -1.188 -0.7090  0.6421  0.2039 -0.3500 -0.275  0.5070   \n\n    APOA4  ...   CALCA     IL6     LTA    CSF3     PGF  GCG_0001    IL1B  \\\n0 -0.2580  ... -0.3688  0.8739 -0.2390  2.8335  0.4469     0.101  0.1688   \n1  0.9759  ... -0.3688  1.5408  3.5482 -0.6669 -0.7770     1.015  0.1688   \n2 -0.5050  ...  0.2562  0.2060 -0.8099 -0.6669 -0.7770     0.372 -0.5152   \n3 -0.5050  ... -0.3688 -0.5718 -0.8099 -0.6669 -0.5050    -0.543  0.1688   \n4  0.2349  ...  0.0612  1.8737  1.0388 -0.6669  0.4469     0.575 -0.2332   \n\n    TGFB3    FGF2  MDA-LDL  \n0 -0.1861  1.9591  -0.0720  \n1  0.2689 -0.3498  -0.5491  \n2 -0.1861 -0.3498  -0.5491  \n3  0.2689 -0.5978  -0.5491  \n4 -0.4131  0.4472  -0.5491  \n\n[5 rows x 136 columns]",
      "text/html": "<div>\n<style scoped>\n    .dataframe tbody tr th:only-of-type {\n        vertical-align: middle;\n    }\n\n    .dataframe tbody tr th {\n        vertical-align: top;\n    }\n\n    .dataframe thead th {\n        text-align: right;\n    }\n</style>\n<table border=\"1\" class=\"dataframe\">\n  <thead>\n    <tr style=\"text-align: right;\">\n      <th></th>\n      <th>ctrl/case</th>\n      <th>ADIPOQ</th>\n      <th>SERPINA3</th>\n      <th>AMBP</th>\n      <th>A2M</th>\n      <th>ACE</th>\n      <th>AGT</th>\n      <th>APOA1</th>\n      <th>APOA2</th>\n      <th>APOA4</th>\n      <th>...</th>\n      <th>CALCA</th>\n      <th>IL6</th>\n      <th>LTA</th>\n      <th>CSF3</th>\n      <th>PGF</th>\n      <th>GCG_0001</th>\n      <th>IL1B</th>\n      <th>TGFB3</th>\n      <th>FGF2</th>\n      <th>MDA-LDL</th>\n    </tr>\n  </thead>\n  <tbody>\n    <tr>\n      <th>0</th>\n      <td>0</td>\n      <td>1.1538</td>\n      <td>-1.008</td>\n      <td>0.4650</td>\n      <td>-0.6181</td>\n      <td>-0.9350</td>\n      <td>1.7169</td>\n      <td>0.974</td>\n      <td>1.7821</td>\n      <td>-0.2580</td>\n      <td>...</td>\n      <td>-0.3688</td>\n      <td>0.8739</td>\n      <td>-0.2390</td>\n      <td>2.8335</td>\n      <td>0.4469</td>\n      <td>0.101</td>\n      <td>0.1688</td>\n      <td>-0.1861</td>\n      <td>1.9591</td>\n      <td>-0.0720</td>\n    </tr>\n    <tr>\n      <th>1</th>\n      <td>0</td>\n      <td>-0.7661</td>\n      <td>-1.039</td>\n      <td>1.2479</td>\n      <td>0.2220</td>\n      <td>-0.7140</td>\n      <td>2.6709</td>\n      <td>-0.275</td>\n      <td>0.1680</td>\n      <td>0.9759</td>\n      <td>...</td>\n      <td>-0.3688</td>\n      <td>1.5408</td>\n      <td>3.5482</td>\n      <td>-0.6669</td>\n      <td>-0.7770</td>\n      <td>1.015</td>\n      <td>0.1688</td>\n      <td>0.2689</td>\n      <td>-0.3498</td>\n      <td>-0.5491</td>\n    </tr>\n    <tr>\n      <th>2</th>\n      <td>0</td>\n      <td>-0.2721</td>\n      <td>-0.766</td>\n      <td>-0.7480</td>\n      <td>-1.0371</td>\n      <td>0.0459</td>\n      <td>-0.2940</td>\n      <td>0.046</td>\n      <td>0.9320</td>\n      <td>-0.5050</td>\n      <td>...</td>\n      <td>0.2562</td>\n      <td>0.2060</td>\n      <td>-0.8099</td>\n      <td>-0.6669</td>\n      <td>-0.7770</td>\n      <td>0.372</td>\n      <td>-0.5152</td>\n      <td>-0.1861</td>\n      <td>-0.3498</td>\n      <td>-0.5491</td>\n    </tr>\n    <tr>\n      <th>3</th>\n      <td>0</td>\n      <td>-0.8201</td>\n      <td>-1.281</td>\n      <td>0.4650</td>\n      <td>-0.1980</td>\n      <td>0.8059</td>\n      <td>0.8980</td>\n      <td>-0.954</td>\n      <td>-0.4270</td>\n      <td>-0.5050</td>\n      <td>...</td>\n      <td>-0.3688</td>\n      <td>-0.5718</td>\n      <td>-0.8099</td>\n      <td>-0.6669</td>\n      <td>-0.5050</td>\n      <td>-0.543</td>\n      <td>0.1688</td>\n      <td>0.2689</td>\n      <td>-0.5978</td>\n      <td>-0.5491</td>\n    </tr>\n    <tr>\n      <th>4</th>\n      <td>0</td>\n      <td>0.0019</td>\n      <td>-1.188</td>\n      <td>-0.7090</td>\n      <td>0.6421</td>\n      <td>0.2039</td>\n      <td>-0.3500</td>\n      <td>-0.275</td>\n      <td>0.5070</td>\n      <td>0.2349</td>\n      <td>...</td>\n      <td>0.0612</td>\n      <td>1.8737</td>\n      <td>1.0388</td>\n      <td>-0.6669</td>\n      <td>0.4469</td>\n      <td>0.575</td>\n      <td>-0.2332</td>\n      <td>-0.4131</td>\n      <td>0.4472</td>\n      <td>-0.5491</td>\n    </tr>\n  </tbody>\n</table>\n<p>5 rows × 136 columns</p>\n</div>"
     },
     "execution_count": 15,
     "metadata": {},
     "output_type": "execute_result"
    }
   ],
   "source": [
    "df = pandas.read_csv(input_file_path, header=0, sep=\",\")\n",
    "df.head()"
   ],
   "metadata": {
    "collapsed": false,
    "ExecuteTime": {
     "end_time": "2023-08-21T20:29:07.676301469Z",
     "start_time": "2023-08-21T20:29:07.211111242Z"
    }
   }
  },
  {
   "cell_type": "markdown",
   "source": [
    "Remove the outcome column to get the independent variables"
   ],
   "metadata": {
    "collapsed": false
   }
  },
  {
   "cell_type": "code",
   "execution_count": 16,
   "outputs": [
    {
     "data": {
      "text/plain": "   ADIPOQ  SERPINA3    AMBP     A2M     ACE     AGT  APOA1   APOA2   APOA4  \\\n0  1.1538    -1.008  0.4650 -0.6181 -0.9350  1.7169  0.974  1.7821 -0.2580   \n1 -0.7661    -1.039  1.2479  0.2220 -0.7140  2.6709 -0.275  0.1680  0.9759   \n2 -0.2721    -0.766 -0.7480 -1.0371  0.0459 -0.2940  0.046  0.9320 -0.5050   \n3 -0.8201    -1.281  0.4650 -0.1980  0.8059  0.8980 -0.954 -0.4270 -0.5050   \n4  0.0019    -1.188 -0.7090  0.6421  0.2039 -0.3500 -0.275  0.5070  0.2349   \n\n     APOH  ...   CALCA     IL6     LTA    CSF3     PGF  GCG_0001    IL1B  \\\n0  2.6529  ... -0.3688  0.8739 -0.2390  2.8335  0.4469     0.101  0.1688   \n1  0.4610  ... -0.3688  1.5408  3.5482 -0.6669 -0.7770     1.015  0.1688   \n2 -0.0990  ...  0.2562  0.2060 -0.8099 -0.6669 -0.7770     0.372 -0.5152   \n3  1.3320  ... -0.3688 -0.5718 -0.8099 -0.6669 -0.5050    -0.543  0.1688   \n4 -0.6120  ...  0.0612  1.8737  1.0388 -0.6669  0.4469     0.575 -0.2332   \n\n    TGFB3    FGF2  MDA-LDL  \n0 -0.1861  1.9591  -0.0720  \n1  0.2689 -0.3498  -0.5491  \n2 -0.1861 -0.3498  -0.5491  \n3  0.2689 -0.5978  -0.5491  \n4 -0.4131  0.4472  -0.5491  \n\n[5 rows x 135 columns]",
      "text/html": "<div>\n<style scoped>\n    .dataframe tbody tr th:only-of-type {\n        vertical-align: middle;\n    }\n\n    .dataframe tbody tr th {\n        vertical-align: top;\n    }\n\n    .dataframe thead th {\n        text-align: right;\n    }\n</style>\n<table border=\"1\" class=\"dataframe\">\n  <thead>\n    <tr style=\"text-align: right;\">\n      <th></th>\n      <th>ADIPOQ</th>\n      <th>SERPINA3</th>\n      <th>AMBP</th>\n      <th>A2M</th>\n      <th>ACE</th>\n      <th>AGT</th>\n      <th>APOA1</th>\n      <th>APOA2</th>\n      <th>APOA4</th>\n      <th>APOH</th>\n      <th>...</th>\n      <th>CALCA</th>\n      <th>IL6</th>\n      <th>LTA</th>\n      <th>CSF3</th>\n      <th>PGF</th>\n      <th>GCG_0001</th>\n      <th>IL1B</th>\n      <th>TGFB3</th>\n      <th>FGF2</th>\n      <th>MDA-LDL</th>\n    </tr>\n  </thead>\n  <tbody>\n    <tr>\n      <th>0</th>\n      <td>1.1538</td>\n      <td>-1.008</td>\n      <td>0.4650</td>\n      <td>-0.6181</td>\n      <td>-0.9350</td>\n      <td>1.7169</td>\n      <td>0.974</td>\n      <td>1.7821</td>\n      <td>-0.2580</td>\n      <td>2.6529</td>\n      <td>...</td>\n      <td>-0.3688</td>\n      <td>0.8739</td>\n      <td>-0.2390</td>\n      <td>2.8335</td>\n      <td>0.4469</td>\n      <td>0.101</td>\n      <td>0.1688</td>\n      <td>-0.1861</td>\n      <td>1.9591</td>\n      <td>-0.0720</td>\n    </tr>\n    <tr>\n      <th>1</th>\n      <td>-0.7661</td>\n      <td>-1.039</td>\n      <td>1.2479</td>\n      <td>0.2220</td>\n      <td>-0.7140</td>\n      <td>2.6709</td>\n      <td>-0.275</td>\n      <td>0.1680</td>\n      <td>0.9759</td>\n      <td>0.4610</td>\n      <td>...</td>\n      <td>-0.3688</td>\n      <td>1.5408</td>\n      <td>3.5482</td>\n      <td>-0.6669</td>\n      <td>-0.7770</td>\n      <td>1.015</td>\n      <td>0.1688</td>\n      <td>0.2689</td>\n      <td>-0.3498</td>\n      <td>-0.5491</td>\n    </tr>\n    <tr>\n      <th>2</th>\n      <td>-0.2721</td>\n      <td>-0.766</td>\n      <td>-0.7480</td>\n      <td>-1.0371</td>\n      <td>0.0459</td>\n      <td>-0.2940</td>\n      <td>0.046</td>\n      <td>0.9320</td>\n      <td>-0.5050</td>\n      <td>-0.0990</td>\n      <td>...</td>\n      <td>0.2562</td>\n      <td>0.2060</td>\n      <td>-0.8099</td>\n      <td>-0.6669</td>\n      <td>-0.7770</td>\n      <td>0.372</td>\n      <td>-0.5152</td>\n      <td>-0.1861</td>\n      <td>-0.3498</td>\n      <td>-0.5491</td>\n    </tr>\n    <tr>\n      <th>3</th>\n      <td>-0.8201</td>\n      <td>-1.281</td>\n      <td>0.4650</td>\n      <td>-0.1980</td>\n      <td>0.8059</td>\n      <td>0.8980</td>\n      <td>-0.954</td>\n      <td>-0.4270</td>\n      <td>-0.5050</td>\n      <td>1.3320</td>\n      <td>...</td>\n      <td>-0.3688</td>\n      <td>-0.5718</td>\n      <td>-0.8099</td>\n      <td>-0.6669</td>\n      <td>-0.5050</td>\n      <td>-0.543</td>\n      <td>0.1688</td>\n      <td>0.2689</td>\n      <td>-0.5978</td>\n      <td>-0.5491</td>\n    </tr>\n    <tr>\n      <th>4</th>\n      <td>0.0019</td>\n      <td>-1.188</td>\n      <td>-0.7090</td>\n      <td>0.6421</td>\n      <td>0.2039</td>\n      <td>-0.3500</td>\n      <td>-0.275</td>\n      <td>0.5070</td>\n      <td>0.2349</td>\n      <td>-0.6120</td>\n      <td>...</td>\n      <td>0.0612</td>\n      <td>1.8737</td>\n      <td>1.0388</td>\n      <td>-0.6669</td>\n      <td>0.4469</td>\n      <td>0.575</td>\n      <td>-0.2332</td>\n      <td>-0.4131</td>\n      <td>0.4472</td>\n      <td>-0.5491</td>\n    </tr>\n  </tbody>\n</table>\n<p>5 rows × 135 columns</p>\n</div>"
     },
     "execution_count": 16,
     "metadata": {},
     "output_type": "execute_result"
    }
   ],
   "source": [
    "X = df.loc[:, df.columns != 'ctrl/case']\n",
    "X.head()"
   ],
   "metadata": {
    "collapsed": false,
    "ExecuteTime": {
     "end_time": "2023-08-21T20:29:07.741418742Z",
     "start_time": "2023-08-21T20:29:07.309137807Z"
    }
   }
  },
  {
   "cell_type": "code",
   "execution_count": 17,
   "outputs": [
    {
     "name": "stdout",
     "output_type": "stream",
     "text": [
      "Number of Rows (data points):  72\n",
      "Number of Columns (features or variables):  135\n"
     ]
    }
   ],
   "source": [
    "# computing number of rows\n",
    "rows = len(X.axes[0])\n",
    "\n",
    "# computing number of columns\n",
    "cols = len(X.axes[1])\n",
    "\n",
    "print(\"Number of Rows (data points): \", rows)\n",
    "print(\"Number of Columns (features or variables): \", cols)"
   ],
   "metadata": {
    "collapsed": false,
    "ExecuteTime": {
     "end_time": "2023-08-21T20:29:07.742990981Z",
     "start_time": "2023-08-21T20:29:07.357191687Z"
    }
   }
  },
  {
   "cell_type": "code",
   "execution_count": 18,
   "outputs": [],
   "source": [
    "Y = df['ctrl/case']"
   ],
   "metadata": {
    "collapsed": false,
    "ExecuteTime": {
     "end_time": "2023-08-21T20:29:07.743172509Z",
     "start_time": "2023-08-21T20:29:07.357412327Z"
    }
   }
  },
  {
   "cell_type": "markdown",
   "source": [
    "Y represents whether the individuals became psychotic (1) or not (0).  Y is a Pandas series."
   ],
   "metadata": {
    "collapsed": false
   }
  },
  {
   "cell_type": "code",
   "execution_count": 19,
   "outputs": [
    {
     "data": {
      "text/plain": "0    0\n1    0\n2    0\n3    0\n4    0\nName: ctrl/case, dtype: int64"
     },
     "execution_count": 19,
     "metadata": {},
     "output_type": "execute_result"
    }
   ],
   "source": [
    "Y.head()"
   ],
   "metadata": {
    "collapsed": false,
    "ExecuteTime": {
     "end_time": "2023-08-21T20:29:07.743536599Z",
     "start_time": "2023-08-21T20:29:07.357558670Z"
    }
   }
  },
  {
   "cell_type": "code",
   "execution_count": 20,
   "outputs": [
    {
     "data": {
      "text/plain": "count    72.000000\nmean      0.444444\nstd       0.500391\nmin       0.000000\n25%       0.000000\n50%       0.000000\n75%       1.000000\nmax       1.000000\nName: ctrl/case, dtype: float64"
     },
     "execution_count": 20,
     "metadata": {},
     "output_type": "execute_result"
    }
   ],
   "source": [
    "Y.describe()"
   ],
   "metadata": {
    "collapsed": false,
    "ExecuteTime": {
     "end_time": "2023-08-21T20:29:07.743889651Z",
     "start_time": "2023-08-21T20:29:07.357710922Z"
    }
   }
  },
  {
   "cell_type": "markdown",
   "source": [
    "The individuals who did not progress to psychosis are labeled non_psychotic."
   ],
   "metadata": {
    "collapsed": false
   }
  },
  {
   "cell_type": "code",
   "execution_count": 21,
   "outputs": [
    {
     "data": {
      "text/plain": "0    0\n1    0\n2    0\n3    0\n4    0\nName: ctrl/case, dtype: int64"
     },
     "execution_count": 21,
     "metadata": {},
     "output_type": "execute_result"
    }
   ],
   "source": [
    "non_psychotic = Y[Y == 0]\n",
    "non_psychotic.head()"
   ],
   "metadata": {
    "collapsed": false,
    "ExecuteTime": {
     "end_time": "2023-08-21T20:29:07.744234169Z",
     "start_time": "2023-08-21T20:29:07.357878069Z"
    }
   }
  },
  {
   "cell_type": "markdown",
   "source": [
    "The individuals who progressed to psychosis are labeled pre_psychotic."
   ],
   "metadata": {
    "collapsed": false
   }
  },
  {
   "cell_type": "code",
   "execution_count": 22,
   "outputs": [],
   "source": [
    "pre_psychotic = Y[Y == 1]"
   ],
   "metadata": {
    "collapsed": false,
    "ExecuteTime": {
     "end_time": "2023-08-21T20:29:07.768930827Z",
     "start_time": "2023-08-21T20:29:07.358064484Z"
    }
   }
  },
  {
   "cell_type": "code",
   "execution_count": 23,
   "outputs": [
    {
     "data": {
      "text/plain": "40    1\n41    1\n42    1\n43    1\n44    1\nName: ctrl/case, dtype: int64"
     },
     "execution_count": 23,
     "metadata": {},
     "output_type": "execute_result"
    }
   ],
   "source": [
    "pre_psychotic.head()"
   ],
   "metadata": {
    "collapsed": false,
    "ExecuteTime": {
     "end_time": "2023-08-21T20:29:07.769450678Z",
     "start_time": "2023-08-21T20:29:07.401247348Z"
    }
   }
  },
  {
   "cell_type": "code",
   "execution_count": 24,
   "outputs": [
    {
     "data": {
      "text/plain": "0     non_psychotic\n1     non_psychotic\n2     non_psychotic\n3     non_psychotic\n4     non_psychotic\n          ...      \n67    pre_psychotic\n68    pre_psychotic\n69    pre_psychotic\n70    pre_psychotic\n71    pre_psychotic\nName: ctrl/case, Length: 72, dtype: object"
     },
     "execution_count": 24,
     "metadata": {},
     "output_type": "execute_result"
    }
   ],
   "source": [
    "Y_names = Y.replace({0: 'non_psychotic', 1: 'pre_psychotic'})\n",
    "Y_names"
   ],
   "metadata": {
    "collapsed": false,
    "ExecuteTime": {
     "end_time": "2023-08-21T20:29:07.769953938Z",
     "start_time": "2023-08-21T20:29:07.401456676Z"
    }
   }
  }
 ],
 "metadata": {
  "kernelspec": {
   "display_name": "Python 3",
   "language": "python",
   "name": "python3"
  },
  "language_info": {
   "codemirror_mode": {
    "name": "ipython",
    "version": 2
   },
   "file_extension": ".py",
   "mimetype": "text/x-python",
   "name": "python",
   "nbconvert_exporter": "python",
   "pygments_lexer": "ipython2",
   "version": "2.7.6"
  }
 },
 "nbformat": 4,
 "nbformat_minor": 0
}
