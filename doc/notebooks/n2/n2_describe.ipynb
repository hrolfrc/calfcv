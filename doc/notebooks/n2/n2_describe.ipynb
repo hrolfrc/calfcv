{
 "cells": [
  {
   "cell_type": "markdown",
   "source": [
    "# The N2 dataset\n",
    "\n",
    "The N2 dataset provides features that are hypothesized to be informative for a progression to psychosis.   This notebook provides an overview of N2."
   ],
   "metadata": {
    "collapsed": false
   }
  },
  {
   "cell_type": "code",
   "execution_count": 68,
   "outputs": [],
   "source": [
    "# Author: Rolf Carlson, Carlson Research LLC, <hrolfrc@gmail.com>\n",
    "# License: 3-clause BSD"
   ],
   "metadata": {
    "collapsed": false,
    "ExecuteTime": {
     "end_time": "2023-08-23T18:13:04.286528740Z",
     "start_time": "2023-08-23T18:13:04.011109191Z"
    }
   }
  },
  {
   "cell_type": "code",
   "execution_count": 69,
   "outputs": [],
   "source": [
    "import pandas\n",
    "from sklearn.linear_model import LogisticRegression\n",
    "from sklearn.metrics import RocCurveDisplay\n",
    "from sklearn.metrics import roc_auc_score\n",
    "import matplotlib.pyplot as plt\n",
    "import math\n",
    "from sklearn.model_selection import train_test_split"
   ],
   "metadata": {
    "collapsed": false,
    "ExecuteTime": {
     "end_time": "2023-08-23T18:13:04.374507423Z",
     "start_time": "2023-08-23T18:13:04.019880641Z"
    }
   }
  },
  {
   "cell_type": "markdown",
   "source": [
    "Get the input file path from the calf project"
   ],
   "metadata": {
    "collapsed": false
   }
  },
  {
   "cell_type": "code",
   "execution_count": 70,
   "outputs": [],
   "source": [
    "input_file_path = \"../../../data/n2.csv\""
   ],
   "metadata": {
    "collapsed": false,
    "ExecuteTime": {
     "end_time": "2023-08-23T18:13:04.410948865Z",
     "start_time": "2023-08-23T18:13:04.027442790Z"
    }
   }
  },
  {
   "cell_type": "markdown",
   "source": [
    "Read the input file into a DataFrame"
   ],
   "metadata": {
    "collapsed": false
   }
  },
  {
   "cell_type": "code",
   "execution_count": 71,
   "outputs": [
    {
     "data": {
      "text/plain": "   ctrl/case  ADIPOQ  SERPINA3    AMBP     A2M     ACE     AGT  APOA1   APOA2  \\\n0          0  1.1538    -1.008  0.4650 -0.6181 -0.9350  1.7169  0.974  1.7821   \n1          0 -0.7661    -1.039  1.2479  0.2220 -0.7140  2.6709 -0.275  0.1680   \n2          0 -0.2721    -0.766 -0.7480 -1.0371  0.0459 -0.2940  0.046  0.9320   \n3          0 -0.8201    -1.281  0.4650 -0.1980  0.8059  0.8980 -0.954 -0.4270   \n4          0  0.0019    -1.188 -0.7090  0.6421  0.2039 -0.3500 -0.275  0.5070   \n\n    APOA4  ...   CALCA     IL6     LTA    CSF3     PGF  GCG_0001    IL1B  \\\n0 -0.2580  ... -0.3688  0.8739 -0.2390  2.8335  0.4469     0.101  0.1688   \n1  0.9759  ... -0.3688  1.5408  3.5482 -0.6669 -0.7770     1.015  0.1688   \n2 -0.5050  ...  0.2562  0.2060 -0.8099 -0.6669 -0.7770     0.372 -0.5152   \n3 -0.5050  ... -0.3688 -0.5718 -0.8099 -0.6669 -0.5050    -0.543  0.1688   \n4  0.2349  ...  0.0612  1.8737  1.0388 -0.6669  0.4469     0.575 -0.2332   \n\n    TGFB3    FGF2  MDA-LDL  \n0 -0.1861  1.9591  -0.0720  \n1  0.2689 -0.3498  -0.5491  \n2 -0.1861 -0.3498  -0.5491  \n3  0.2689 -0.5978  -0.5491  \n4 -0.4131  0.4472  -0.5491  \n\n[5 rows x 136 columns]",
      "text/html": "<div>\n<style scoped>\n    .dataframe tbody tr th:only-of-type {\n        vertical-align: middle;\n    }\n\n    .dataframe tbody tr th {\n        vertical-align: top;\n    }\n\n    .dataframe thead th {\n        text-align: right;\n    }\n</style>\n<table border=\"1\" class=\"dataframe\">\n  <thead>\n    <tr style=\"text-align: right;\">\n      <th></th>\n      <th>ctrl/case</th>\n      <th>ADIPOQ</th>\n      <th>SERPINA3</th>\n      <th>AMBP</th>\n      <th>A2M</th>\n      <th>ACE</th>\n      <th>AGT</th>\n      <th>APOA1</th>\n      <th>APOA2</th>\n      <th>APOA4</th>\n      <th>...</th>\n      <th>CALCA</th>\n      <th>IL6</th>\n      <th>LTA</th>\n      <th>CSF3</th>\n      <th>PGF</th>\n      <th>GCG_0001</th>\n      <th>IL1B</th>\n      <th>TGFB3</th>\n      <th>FGF2</th>\n      <th>MDA-LDL</th>\n    </tr>\n  </thead>\n  <tbody>\n    <tr>\n      <th>0</th>\n      <td>0</td>\n      <td>1.1538</td>\n      <td>-1.008</td>\n      <td>0.4650</td>\n      <td>-0.6181</td>\n      <td>-0.9350</td>\n      <td>1.7169</td>\n      <td>0.974</td>\n      <td>1.7821</td>\n      <td>-0.2580</td>\n      <td>...</td>\n      <td>-0.3688</td>\n      <td>0.8739</td>\n      <td>-0.2390</td>\n      <td>2.8335</td>\n      <td>0.4469</td>\n      <td>0.101</td>\n      <td>0.1688</td>\n      <td>-0.1861</td>\n      <td>1.9591</td>\n      <td>-0.0720</td>\n    </tr>\n    <tr>\n      <th>1</th>\n      <td>0</td>\n      <td>-0.7661</td>\n      <td>-1.039</td>\n      <td>1.2479</td>\n      <td>0.2220</td>\n      <td>-0.7140</td>\n      <td>2.6709</td>\n      <td>-0.275</td>\n      <td>0.1680</td>\n      <td>0.9759</td>\n      <td>...</td>\n      <td>-0.3688</td>\n      <td>1.5408</td>\n      <td>3.5482</td>\n      <td>-0.6669</td>\n      <td>-0.7770</td>\n      <td>1.015</td>\n      <td>0.1688</td>\n      <td>0.2689</td>\n      <td>-0.3498</td>\n      <td>-0.5491</td>\n    </tr>\n    <tr>\n      <th>2</th>\n      <td>0</td>\n      <td>-0.2721</td>\n      <td>-0.766</td>\n      <td>-0.7480</td>\n      <td>-1.0371</td>\n      <td>0.0459</td>\n      <td>-0.2940</td>\n      <td>0.046</td>\n      <td>0.9320</td>\n      <td>-0.5050</td>\n      <td>...</td>\n      <td>0.2562</td>\n      <td>0.2060</td>\n      <td>-0.8099</td>\n      <td>-0.6669</td>\n      <td>-0.7770</td>\n      <td>0.372</td>\n      <td>-0.5152</td>\n      <td>-0.1861</td>\n      <td>-0.3498</td>\n      <td>-0.5491</td>\n    </tr>\n    <tr>\n      <th>3</th>\n      <td>0</td>\n      <td>-0.8201</td>\n      <td>-1.281</td>\n      <td>0.4650</td>\n      <td>-0.1980</td>\n      <td>0.8059</td>\n      <td>0.8980</td>\n      <td>-0.954</td>\n      <td>-0.4270</td>\n      <td>-0.5050</td>\n      <td>...</td>\n      <td>-0.3688</td>\n      <td>-0.5718</td>\n      <td>-0.8099</td>\n      <td>-0.6669</td>\n      <td>-0.5050</td>\n      <td>-0.543</td>\n      <td>0.1688</td>\n      <td>0.2689</td>\n      <td>-0.5978</td>\n      <td>-0.5491</td>\n    </tr>\n    <tr>\n      <th>4</th>\n      <td>0</td>\n      <td>0.0019</td>\n      <td>-1.188</td>\n      <td>-0.7090</td>\n      <td>0.6421</td>\n      <td>0.2039</td>\n      <td>-0.3500</td>\n      <td>-0.275</td>\n      <td>0.5070</td>\n      <td>0.2349</td>\n      <td>...</td>\n      <td>0.0612</td>\n      <td>1.8737</td>\n      <td>1.0388</td>\n      <td>-0.6669</td>\n      <td>0.4469</td>\n      <td>0.575</td>\n      <td>-0.2332</td>\n      <td>-0.4131</td>\n      <td>0.4472</td>\n      <td>-0.5491</td>\n    </tr>\n  </tbody>\n</table>\n<p>5 rows × 136 columns</p>\n</div>"
     },
     "execution_count": 71,
     "metadata": {},
     "output_type": "execute_result"
    }
   ],
   "source": [
    "df = pandas.read_csv(input_file_path, header=0, sep=\",\")\n",
    "df.head()"
   ],
   "metadata": {
    "collapsed": false,
    "ExecuteTime": {
     "end_time": "2023-08-23T18:13:04.486271610Z",
     "start_time": "2023-08-23T18:13:04.037111745Z"
    }
   }
  },
  {
   "cell_type": "markdown",
   "source": [
    "Remove the outcome column to get the independent variables"
   ],
   "metadata": {
    "collapsed": false
   }
  },
  {
   "cell_type": "code",
   "execution_count": 72,
   "outputs": [
    {
     "data": {
      "text/plain": "   ADIPOQ  SERPINA3    AMBP     A2M     ACE     AGT  APOA1   APOA2   APOA4  \\\n0  1.1538    -1.008  0.4650 -0.6181 -0.9350  1.7169  0.974  1.7821 -0.2580   \n1 -0.7661    -1.039  1.2479  0.2220 -0.7140  2.6709 -0.275  0.1680  0.9759   \n2 -0.2721    -0.766 -0.7480 -1.0371  0.0459 -0.2940  0.046  0.9320 -0.5050   \n3 -0.8201    -1.281  0.4650 -0.1980  0.8059  0.8980 -0.954 -0.4270 -0.5050   \n4  0.0019    -1.188 -0.7090  0.6421  0.2039 -0.3500 -0.275  0.5070  0.2349   \n\n     APOH  ...   CALCA     IL6     LTA    CSF3     PGF  GCG_0001    IL1B  \\\n0  2.6529  ... -0.3688  0.8739 -0.2390  2.8335  0.4469     0.101  0.1688   \n1  0.4610  ... -0.3688  1.5408  3.5482 -0.6669 -0.7770     1.015  0.1688   \n2 -0.0990  ...  0.2562  0.2060 -0.8099 -0.6669 -0.7770     0.372 -0.5152   \n3  1.3320  ... -0.3688 -0.5718 -0.8099 -0.6669 -0.5050    -0.543  0.1688   \n4 -0.6120  ...  0.0612  1.8737  1.0388 -0.6669  0.4469     0.575 -0.2332   \n\n    TGFB3    FGF2  MDA-LDL  \n0 -0.1861  1.9591  -0.0720  \n1  0.2689 -0.3498  -0.5491  \n2 -0.1861 -0.3498  -0.5491  \n3  0.2689 -0.5978  -0.5491  \n4 -0.4131  0.4472  -0.5491  \n\n[5 rows x 135 columns]",
      "text/html": "<div>\n<style scoped>\n    .dataframe tbody tr th:only-of-type {\n        vertical-align: middle;\n    }\n\n    .dataframe tbody tr th {\n        vertical-align: top;\n    }\n\n    .dataframe thead th {\n        text-align: right;\n    }\n</style>\n<table border=\"1\" class=\"dataframe\">\n  <thead>\n    <tr style=\"text-align: right;\">\n      <th></th>\n      <th>ADIPOQ</th>\n      <th>SERPINA3</th>\n      <th>AMBP</th>\n      <th>A2M</th>\n      <th>ACE</th>\n      <th>AGT</th>\n      <th>APOA1</th>\n      <th>APOA2</th>\n      <th>APOA4</th>\n      <th>APOH</th>\n      <th>...</th>\n      <th>CALCA</th>\n      <th>IL6</th>\n      <th>LTA</th>\n      <th>CSF3</th>\n      <th>PGF</th>\n      <th>GCG_0001</th>\n      <th>IL1B</th>\n      <th>TGFB3</th>\n      <th>FGF2</th>\n      <th>MDA-LDL</th>\n    </tr>\n  </thead>\n  <tbody>\n    <tr>\n      <th>0</th>\n      <td>1.1538</td>\n      <td>-1.008</td>\n      <td>0.4650</td>\n      <td>-0.6181</td>\n      <td>-0.9350</td>\n      <td>1.7169</td>\n      <td>0.974</td>\n      <td>1.7821</td>\n      <td>-0.2580</td>\n      <td>2.6529</td>\n      <td>...</td>\n      <td>-0.3688</td>\n      <td>0.8739</td>\n      <td>-0.2390</td>\n      <td>2.8335</td>\n      <td>0.4469</td>\n      <td>0.101</td>\n      <td>0.1688</td>\n      <td>-0.1861</td>\n      <td>1.9591</td>\n      <td>-0.0720</td>\n    </tr>\n    <tr>\n      <th>1</th>\n      <td>-0.7661</td>\n      <td>-1.039</td>\n      <td>1.2479</td>\n      <td>0.2220</td>\n      <td>-0.7140</td>\n      <td>2.6709</td>\n      <td>-0.275</td>\n      <td>0.1680</td>\n      <td>0.9759</td>\n      <td>0.4610</td>\n      <td>...</td>\n      <td>-0.3688</td>\n      <td>1.5408</td>\n      <td>3.5482</td>\n      <td>-0.6669</td>\n      <td>-0.7770</td>\n      <td>1.015</td>\n      <td>0.1688</td>\n      <td>0.2689</td>\n      <td>-0.3498</td>\n      <td>-0.5491</td>\n    </tr>\n    <tr>\n      <th>2</th>\n      <td>-0.2721</td>\n      <td>-0.766</td>\n      <td>-0.7480</td>\n      <td>-1.0371</td>\n      <td>0.0459</td>\n      <td>-0.2940</td>\n      <td>0.046</td>\n      <td>0.9320</td>\n      <td>-0.5050</td>\n      <td>-0.0990</td>\n      <td>...</td>\n      <td>0.2562</td>\n      <td>0.2060</td>\n      <td>-0.8099</td>\n      <td>-0.6669</td>\n      <td>-0.7770</td>\n      <td>0.372</td>\n      <td>-0.5152</td>\n      <td>-0.1861</td>\n      <td>-0.3498</td>\n      <td>-0.5491</td>\n    </tr>\n    <tr>\n      <th>3</th>\n      <td>-0.8201</td>\n      <td>-1.281</td>\n      <td>0.4650</td>\n      <td>-0.1980</td>\n      <td>0.8059</td>\n      <td>0.8980</td>\n      <td>-0.954</td>\n      <td>-0.4270</td>\n      <td>-0.5050</td>\n      <td>1.3320</td>\n      <td>...</td>\n      <td>-0.3688</td>\n      <td>-0.5718</td>\n      <td>-0.8099</td>\n      <td>-0.6669</td>\n      <td>-0.5050</td>\n      <td>-0.543</td>\n      <td>0.1688</td>\n      <td>0.2689</td>\n      <td>-0.5978</td>\n      <td>-0.5491</td>\n    </tr>\n    <tr>\n      <th>4</th>\n      <td>0.0019</td>\n      <td>-1.188</td>\n      <td>-0.7090</td>\n      <td>0.6421</td>\n      <td>0.2039</td>\n      <td>-0.3500</td>\n      <td>-0.275</td>\n      <td>0.5070</td>\n      <td>0.2349</td>\n      <td>-0.6120</td>\n      <td>...</td>\n      <td>0.0612</td>\n      <td>1.8737</td>\n      <td>1.0388</td>\n      <td>-0.6669</td>\n      <td>0.4469</td>\n      <td>0.575</td>\n      <td>-0.2332</td>\n      <td>-0.4131</td>\n      <td>0.4472</td>\n      <td>-0.5491</td>\n    </tr>\n  </tbody>\n</table>\n<p>5 rows × 135 columns</p>\n</div>"
     },
     "execution_count": 72,
     "metadata": {},
     "output_type": "execute_result"
    }
   ],
   "source": [
    "X = df.loc[:, df.columns != 'ctrl/case']\n",
    "X.head()"
   ],
   "metadata": {
    "collapsed": false,
    "ExecuteTime": {
     "end_time": "2023-08-23T18:13:04.537330366Z",
     "start_time": "2023-08-23T18:13:04.106085825Z"
    }
   }
  },
  {
   "cell_type": "code",
   "execution_count": 73,
   "outputs": [
    {
     "name": "stdout",
     "output_type": "stream",
     "text": [
      "Number of Rows (data points):  72\n",
      "Number of Columns (features or variables):  135\n"
     ]
    }
   ],
   "source": [
    "# computing number of rows\n",
    "rows = len(X.axes[0])\n",
    "\n",
    "# computing number of columns\n",
    "cols = len(X.axes[1])\n",
    "\n",
    "print(\"Number of Rows (data points): \", rows)\n",
    "print(\"Number of Columns (features or variables): \", cols)"
   ],
   "metadata": {
    "collapsed": false,
    "ExecuteTime": {
     "end_time": "2023-08-23T18:13:04.544977198Z",
     "start_time": "2023-08-23T18:13:04.127045081Z"
    }
   }
  },
  {
   "cell_type": "code",
   "execution_count": 74,
   "outputs": [],
   "source": [
    "Y = df['ctrl/case']"
   ],
   "metadata": {
    "collapsed": false,
    "ExecuteTime": {
     "end_time": "2023-08-23T18:13:04.551558750Z",
     "start_time": "2023-08-23T18:13:04.169224096Z"
    }
   }
  },
  {
   "cell_type": "markdown",
   "source": [
    "Y represents whether the individuals became psychotic (1) or not (0).  Y is a Pandas series."
   ],
   "metadata": {
    "collapsed": false
   }
  },
  {
   "cell_type": "code",
   "execution_count": 75,
   "outputs": [
    {
     "data": {
      "text/plain": "0    0\n1    0\n2    0\n3    0\n4    0\nName: ctrl/case, dtype: int64"
     },
     "execution_count": 75,
     "metadata": {},
     "output_type": "execute_result"
    }
   ],
   "source": [
    "Y.head()"
   ],
   "metadata": {
    "collapsed": false,
    "ExecuteTime": {
     "end_time": "2023-08-23T18:13:04.552001042Z",
     "start_time": "2023-08-23T18:13:04.169600902Z"
    }
   }
  },
  {
   "cell_type": "code",
   "execution_count": 76,
   "outputs": [
    {
     "data": {
      "text/plain": "count    72.000000\nmean      0.444444\nstd       0.500391\nmin       0.000000\n25%       0.000000\n50%       0.000000\n75%       1.000000\nmax       1.000000\nName: ctrl/case, dtype: float64"
     },
     "execution_count": 76,
     "metadata": {},
     "output_type": "execute_result"
    }
   ],
   "source": [
    "Y.describe()"
   ],
   "metadata": {
    "collapsed": false,
    "ExecuteTime": {
     "end_time": "2023-08-23T18:13:04.552367205Z",
     "start_time": "2023-08-23T18:13:04.169866086Z"
    }
   }
  },
  {
   "cell_type": "markdown",
   "source": [
    "The individuals who did not progress to psychosis are labeled non_psychotic."
   ],
   "metadata": {
    "collapsed": false
   }
  },
  {
   "cell_type": "code",
   "execution_count": 77,
   "outputs": [
    {
     "data": {
      "text/plain": "0    0\n1    0\n2    0\n3    0\n4    0\nName: ctrl/case, dtype: int64"
     },
     "execution_count": 77,
     "metadata": {},
     "output_type": "execute_result"
    }
   ],
   "source": [
    "non_psychotic = Y[Y == 0]\n",
    "non_psychotic.head()"
   ],
   "metadata": {
    "collapsed": false,
    "ExecuteTime": {
     "end_time": "2023-08-23T18:13:04.552716747Z",
     "start_time": "2023-08-23T18:13:04.170043604Z"
    }
   }
  },
  {
   "cell_type": "markdown",
   "source": [
    "The individuals who progressed to psychosis are labeled pre_psychotic."
   ],
   "metadata": {
    "collapsed": false
   }
  },
  {
   "cell_type": "code",
   "execution_count": 78,
   "outputs": [],
   "source": [
    "pre_psychotic = Y[Y == 1]"
   ],
   "metadata": {
    "collapsed": false,
    "ExecuteTime": {
     "end_time": "2023-08-23T18:13:04.552956621Z",
     "start_time": "2023-08-23T18:13:04.170219094Z"
    }
   }
  },
  {
   "cell_type": "code",
   "execution_count": 79,
   "outputs": [
    {
     "data": {
      "text/plain": "40    1\n41    1\n42    1\n43    1\n44    1\nName: ctrl/case, dtype: int64"
     },
     "execution_count": 79,
     "metadata": {},
     "output_type": "execute_result"
    }
   ],
   "source": [
    "pre_psychotic.head()"
   ],
   "metadata": {
    "collapsed": false,
    "ExecuteTime": {
     "end_time": "2023-08-23T18:13:04.553457923Z",
     "start_time": "2023-08-23T18:13:04.172416514Z"
    }
   }
  },
  {
   "cell_type": "code",
   "execution_count": 80,
   "outputs": [
    {
     "data": {
      "text/plain": "0     non_psychotic\n1     non_psychotic\n2     non_psychotic\n3     non_psychotic\n4     non_psychotic\n          ...      \n67    pre_psychotic\n68    pre_psychotic\n69    pre_psychotic\n70    pre_psychotic\n71    pre_psychotic\nName: ctrl/case, Length: 72, dtype: object"
     },
     "execution_count": 80,
     "metadata": {},
     "output_type": "execute_result"
    }
   ],
   "source": [
    "Y_names = Y.replace({0: 'non_psychotic', 1: 'pre_psychotic'})\n",
    "Y_names"
   ],
   "metadata": {
    "collapsed": false,
    "ExecuteTime": {
     "end_time": "2023-08-23T18:13:04.554739422Z",
     "start_time": "2023-08-23T18:13:04.179324510Z"
    }
   }
  },
  {
   "cell_type": "markdown",
   "source": [
    "## Fit N2"
   ],
   "metadata": {
    "collapsed": false
   }
  },
  {
   "cell_type": "code",
   "execution_count": 81,
   "outputs": [],
   "source": [
    "lr = LogisticRegression().fit(X, Y)"
   ],
   "metadata": {
    "collapsed": false,
    "ExecuteTime": {
     "end_time": "2023-08-23T18:13:04.556006Z",
     "start_time": "2023-08-23T18:13:04.188566815Z"
    }
   }
  },
  {
   "cell_type": "code",
   "execution_count": 82,
   "outputs": [
    {
     "data": {
      "text/plain": "<Figure size 640x480 with 1 Axes>",
      "image/png": "[encoded data removed]"
     },
     "metadata": {},
     "output_type": "display_data"
    }
   ],
   "source": [
    "importance = lr.coef_.tolist()[0]\n",
    "# Find the 5 most important coefficients and features\n",
    "# Operate on the coefficients and features as tuples\n",
    "# maintain the association as they are sorted and selected.\n",
    "tup = list(zip(importance, X.columns))\n",
    "tup = sorted(tup,  key=lambda c: abs(c[0]), reverse=True)[0:10]\n",
    "tup = [c for c in tup if not math.isclose(c[0], 0)]\n",
    "\n",
    "s, f = list(zip(*tup))\n",
    "\n",
    "fig, ax = plt.subplots()\n",
    "ax.bar(height=s, x=f)\n",
    "\n",
    "plt.xticks(rotation=50)\n",
    "plt.title(\"Feature importances via coefficients\")\n",
    "plt.show()"
   ],
   "metadata": {
    "collapsed": false,
    "ExecuteTime": {
     "end_time": "2023-08-23T18:13:04.681940182Z",
     "start_time": "2023-08-23T18:13:04.273064145Z"
    }
   }
  },
  {
   "cell_type": "markdown",
   "source": [
    "## Most important coefficients and features written as a sum"
   ],
   "metadata": {
    "collapsed": false
   }
  },
  {
   "cell_type": "code",
   "execution_count": 83,
   "outputs": [
    {
     "name": "stdout",
     "output_type": "stream",
     "text": [
      "0.805 MMP7 + 0.75 TSHB + 0.614 MDA-LDL -0.602 CXCL10 -0.558 ADIPOQ + 0.502 IL1B -0.469 MMP1 + 0.456 FTL + 0.434 EGFR + 0.431 CXCL5\n"
     ]
    }
   ],
   "source": [
    "i, j = tup[0]\n",
    "s = str(round(i, 3)) + \" \" +str(j)\n",
    "for i, j in tup[1:]:\n",
    "    if i < 0:\n",
    "        sgn = ' '\n",
    "    else:\n",
    "        sgn = ' + '\n",
    "    s = s + sgn + str(round(i, 3)) + \" \" +str(j)\n",
    "print(s)"
   ],
   "metadata": {
    "collapsed": false,
    "ExecuteTime": {
     "end_time": "2023-08-23T18:13:04.682396640Z",
     "start_time": "2023-08-23T18:13:04.469094734Z"
    }
   }
  },
  {
   "cell_type": "markdown",
   "source": [
    "## The ROC AUC score"
   ],
   "metadata": {
    "collapsed": false
   }
  },
  {
   "cell_type": "code",
   "execution_count": 84,
   "outputs": [
    {
     "data": {
      "text/plain": "1.0"
     },
     "execution_count": 84,
     "metadata": {},
     "output_type": "execute_result"
    }
   ],
   "source": [
    "y_score = lr.predict(X)\n",
    "# Using all the data should result in an AUC near 1\n",
    "roc_auc_score(Y, y_score)"
   ],
   "metadata": {
    "collapsed": false,
    "ExecuteTime": {
     "end_time": "2023-08-23T18:13:04.682760983Z",
     "start_time": "2023-08-23T18:13:04.469337262Z"
    }
   }
  },
  {
   "cell_type": "markdown",
   "source": [
    "## ROC curve with an AUC = 1"
   ],
   "metadata": {
    "collapsed": false
   }
  },
  {
   "cell_type": "code",
   "execution_count": 85,
   "outputs": [
    {
     "data": {
      "text/plain": "<Figure size 640x480 with 1 Axes>",
      "image/png": "[encoded data removed]"
     },
     "metadata": {},
     "output_type": "display_data"
    }
   ],
   "source": [
    "RocCurveDisplay.from_predictions(\n",
    "    Y,\n",
    "    y_score,  \n",
    "    name=\"Conversion to Psychosis\",\n",
    "    color=\"darkorange\",\n",
    ")\n",
    "plt.plot([0, 1], [0, 1], \"k--\", label=\"chance level (AUC = 0.5)\")\n",
    "plt.axis(\"square\")\n",
    "plt.xlabel(\"False Positive Rate\")\n",
    "plt.ylabel(\"True Positive Rate\")\n",
    "plt.title(\"ROC curves\")\n",
    "plt.legend()\n",
    "plt.show()"
   ],
   "metadata": {
    "collapsed": false,
    "ExecuteTime": {
     "end_time": "2023-08-23T18:13:05.049248192Z",
     "start_time": "2023-08-23T18:13:04.469501500Z"
    }
   }
  },
  {
   "cell_type": "markdown",
   "source": [],
   "metadata": {
    "collapsed": false
   }
  },
  {
   "cell_type": "markdown",
   "source": [
    "## The classifier does not learn from the training data."
   ],
   "metadata": {
    "collapsed": false
   }
  },
  {
   "cell_type": "code",
   "execution_count": 86,
   "outputs": [],
   "source": [
    "X_train, X_test, y_train, y_test = train_test_split(\n",
    "    X.copy(), Y.copy(),\n",
    "    random_state=42\n",
    ")"
   ],
   "metadata": {
    "collapsed": false,
    "ExecuteTime": {
     "end_time": "2023-08-23T18:13:05.049618779Z",
     "start_time": "2023-08-23T18:13:04.713234972Z"
    }
   }
  },
  {
   "cell_type": "code",
   "execution_count": 87,
   "outputs": [
    {
     "data": {
      "text/plain": "0.48701298701298695"
     },
     "execution_count": 87,
     "metadata": {},
     "output_type": "execute_result"
    }
   ],
   "source": [
    "y_score =  LogisticRegression().fit(X_train, y_train).predict(X_test)\n",
    "# Using all the data should result in an AUC near 1\n",
    "roc_auc_score(y_test, y_score)"
   ],
   "metadata": {
    "collapsed": false,
    "ExecuteTime": {
     "end_time": "2023-08-23T18:13:05.050113320Z",
     "start_time": "2023-08-23T18:13:04.713479472Z"
    }
   }
  }
 ],
 "metadata": {
  "kernelspec": {
   "display_name": "Python 3",
   "language": "python",
   "name": "python3"
  },
  "language_info": {
   "codemirror_mode": {
    "name": "ipython",
    "version": 2
   },
   "file_extension": ".py",
   "mimetype": "text/x-python",
   "name": "python",
   "nbconvert_exporter": "python",
   "pygments_lexer": "ipython2",
   "version": "2.7.6"
  }
 },
 "nbformat": 4,
 "nbformat_minor": 0
}
