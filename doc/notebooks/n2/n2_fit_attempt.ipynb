{
 "cells": [
  {
   "cell_type": "markdown",
   "source": [
    "# Analysis of data that lacks informative features\n",
    "\n",
    "Build a pipeline to analyze the N2 dataset.  These results are an example of what you can find when the data lacks informative features."
   ],
   "metadata": {
    "collapsed": false
   }
  },
  {
   "cell_type": "code",
   "execution_count": 126,
   "outputs": [],
   "source": [
    "import numpy as np\n",
    "import pandas as pd\n",
    "from sklearn.preprocessing import StandardScaler\n",
    "from sklearn.pipeline import Pipeline\n",
    "from sklearn.model_selection import train_test_split, GridSearchCV\n",
    "import matplotlib.pyplot as plt\n",
    "import math\n",
    "from sklearn.linear_model import RidgeCV\n",
    "import warnings"
   ],
   "metadata": {
    "collapsed": false,
    "ExecuteTime": {
     "end_time": "2023-08-21T22:07:44.368429162Z",
     "start_time": "2023-08-21T22:07:44.230480924Z"
    }
   }
  },
  {
   "cell_type": "code",
   "execution_count": 127,
   "outputs": [],
   "source": [
    "# Ignore warnings\n",
    "warnings.filterwarnings('ignore')"
   ],
   "metadata": {
    "collapsed": false,
    "ExecuteTime": {
     "end_time": "2023-08-21T22:07:44.454055898Z",
     "start_time": "2023-08-21T22:07:44.242855941Z"
    }
   }
  },
  {
   "cell_type": "code",
   "execution_count": 128,
   "outputs": [],
   "source": [
    "input_file_path = \"../../../data/n2.csv\"\n",
    "df = pd.read_csv(input_file_path, header=0, sep=\",\")"
   ],
   "metadata": {
    "collapsed": false,
    "ExecuteTime": {
     "end_time": "2023-08-21T22:07:44.503495195Z",
     "start_time": "2023-08-21T22:07:44.243112199Z"
    }
   }
  },
  {
   "cell_type": "code",
   "execution_count": 129,
   "outputs": [],
   "source": [
    "X = df.loc[:, df.columns != 'ctrl/case']"
   ],
   "metadata": {
    "collapsed": false,
    "ExecuteTime": {
     "end_time": "2023-08-21T22:07:44.504418517Z",
     "start_time": "2023-08-21T22:07:44.301103558Z"
    }
   }
  },
  {
   "cell_type": "code",
   "execution_count": 148,
   "outputs": [],
   "source": [
    "y = df['ctrl/case'].astype('int').tolist()\n",
    "features = df.columns"
   ],
   "metadata": {
    "collapsed": false,
    "ExecuteTime": {
     "end_time": "2023-08-21T22:10:30.396521378Z",
     "start_time": "2023-08-21T22:10:30.375667399Z"
    }
   }
  },
  {
   "cell_type": "code",
   "execution_count": 150,
   "outputs": [
    {
     "name": "stdout",
     "output_type": "stream",
     "text": [
      "[0, 0, 0, 0, 0, 0, 0, 0, 0, 0, 0, 0, 0, 0, 0, 0, 0, 0, 0, 0, 0, 0, 0, 0, 0, 0, 0, 0, 0, 0, 0, 0, 0, 0, 0, 0, 0, 0, 0, 0, 1, 1, 1, 1, 1, 1, 1, 1, 1, 1, 1, 1, 1, 1, 1, 1, 1, 1, 1, 1, 1, 1, 1, 1, 1, 1, 1, 1, 1, 1, 1, 1]\n"
     ]
    }
   ],
   "source": [
    "print(y)"
   ],
   "metadata": {
    "collapsed": false,
    "ExecuteTime": {
     "end_time": "2023-08-21T22:10:32.703493790Z",
     "start_time": "2023-08-21T22:10:32.656866601Z"
    }
   }
  },
  {
   "cell_type": "markdown",
   "source": [
    "## Feature importance from coefficients\n",
    "\n",
    "None of the features are important"
   ],
   "metadata": {
    "collapsed": false
   }
  },
  {
   "cell_type": "code",
   "execution_count": 166,
   "outputs": [
    {
     "data": {
      "text/plain": "<Figure size 640x480 with 1 Axes>",
      "image/png": "[encoded data removed]"
     },
     "metadata": {},
     "output_type": "display_data"
    }
   ],
   "source": [
    "ridge = RidgeCV(alphas=np.logspace(-6, 6, num=5)).fit(X, y)\n",
    "importance = np.abs(ridge.coef_)\n",
    "\n",
    "# Find the 5 most important coefficients and features\n",
    "# Operate on the coefficients and features as tuples\n",
    "# maintain the association as they are sorted and selected.\n",
    "tup = list(zip(importance, features))\n",
    "tup = sorted(tup,  key=lambda x: abs(x[0]), reverse=True)\n",
    "tup = [x for x in tup[:5] if not math.isclose(x[0], 0)]\n",
    "importance, features = list(zip(*tup))\n",
    "\n",
    "plt.bar(height=importance, x=features)\n",
    "plt.title(\"Feature importances via coefficients\")\n",
    "plt.show()"
   ],
   "metadata": {
    "collapsed": false,
    "ExecuteTime": {
     "end_time": "2023-08-21T22:14:04.398484823Z",
     "start_time": "2023-08-21T22:14:04.172407606Z"
    }
   }
  },
  {
   "cell_type": "markdown",
   "source": [
    "## Try to learn the data"
   ],
   "metadata": {
    "collapsed": false
   }
  },
  {
   "cell_type": "code",
   "execution_count": 152,
   "outputs": [],
   "source": [
    "from sklearn.feature_selection import SelectFromModel\n",
    "from sklearn.svm import LinearSVC\n",
    "from sklearn.linear_model import LogisticRegression\n",
    "from sklearn.linear_model import Lasso\n",
    "\n",
    "sfm_lsvc = SelectFromModel(LinearSVC(penalty=\"l1\", dual=False, max_iter=10000))\n",
    "sfm_lr = SelectFromModel(LogisticRegression(dual=False, solver='liblinear', max_iter=10000))\n",
    "\n",
    "pipeline = Pipeline([\n",
    "    ('scaler', StandardScaler()),\n",
    "    ('feature_selection', sfm_lsvc),\n",
    "    ('model', Lasso())\n",
    "])"
   ],
   "metadata": {
    "collapsed": false,
    "ExecuteTime": {
     "end_time": "2023-08-21T22:11:05.088193729Z",
     "start_time": "2023-08-21T22:11:04.995716877Z"
    }
   }
  },
  {
   "cell_type": "code",
   "execution_count": 153,
   "outputs": [
    {
     "data": {
      "text/plain": "{'memory': None,\n 'steps': [('scaler', StandardScaler()),\n  ('feature_selection',\n   SelectFromModel(estimator=LinearSVC(dual=False, max_iter=10000, penalty='l1'))),\n  ('model', Lasso())],\n 'verbose': False,\n 'scaler': StandardScaler(),\n 'feature_selection': SelectFromModel(estimator=LinearSVC(dual=False, max_iter=10000, penalty='l1')),\n 'model': Lasso(),\n 'scaler__copy': True,\n 'scaler__with_mean': True,\n 'scaler__with_std': True,\n 'feature_selection__estimator__C': 1.0,\n 'feature_selection__estimator__class_weight': None,\n 'feature_selection__estimator__dual': False,\n 'feature_selection__estimator__fit_intercept': True,\n 'feature_selection__estimator__intercept_scaling': 1,\n 'feature_selection__estimator__loss': 'squared_hinge',\n 'feature_selection__estimator__max_iter': 10000,\n 'feature_selection__estimator__multi_class': 'ovr',\n 'feature_selection__estimator__penalty': 'l1',\n 'feature_selection__estimator__random_state': None,\n 'feature_selection__estimator__tol': 0.0001,\n 'feature_selection__estimator__verbose': 0,\n 'feature_selection__estimator': LinearSVC(dual=False, max_iter=10000, penalty='l1'),\n 'feature_selection__importance_getter': 'auto',\n 'feature_selection__max_features': None,\n 'feature_selection__norm_order': 1,\n 'feature_selection__prefit': False,\n 'feature_selection__threshold': None,\n 'model__alpha': 1.0,\n 'model__copy_X': True,\n 'model__fit_intercept': True,\n 'model__max_iter': 1000,\n 'model__positive': False,\n 'model__precompute': False,\n 'model__random_state': None,\n 'model__selection': 'cyclic',\n 'model__tol': 0.0001,\n 'model__warm_start': False}"
     },
     "execution_count": 153,
     "metadata": {},
     "output_type": "execute_result"
    }
   ],
   "source": [
    "# Show the parameters for use in the parameter grid\n",
    "pipeline.get_params()"
   ],
   "metadata": {
    "collapsed": false,
    "ExecuteTime": {
     "end_time": "2023-08-21T22:11:07.867281321Z",
     "start_time": "2023-08-21T22:11:07.843793004Z"
    }
   }
  },
  {
   "cell_type": "code",
   "execution_count": 160,
   "outputs": [],
   "source": [
    "# Look at the parameters revealed by get_params and see which items to include in the grid\n",
    "parametersGrid = {\n",
    "    \"model__alpha\": np.arange(0.01, 2, .1)\n",
    "}\n",
    "\n",
    "search = GridSearchCV(\n",
    "    pipeline, \n",
    "    parametersGrid, \n",
    "    scoring=\"accuracy\", \n",
    "    cv=5, \n",
    "    verbose=False\n",
    ")"
   ],
   "metadata": {
    "collapsed": false,
    "ExecuteTime": {
     "end_time": "2023-08-21T22:13:11.667122429Z",
     "start_time": "2023-08-21T22:13:11.587552285Z"
    }
   }
  },
  {
   "cell_type": "markdown",
   "source": [
    "## Train the classifier"
   ],
   "metadata": {
    "collapsed": false
   }
  },
  {
   "cell_type": "code",
   "execution_count": 161,
   "outputs": [
    {
     "data": {
      "text/plain": "GridSearchCV(cv=5,\n             estimator=Pipeline(steps=[('scaler', StandardScaler()),\n                                       ('feature_selection',\n                                        SelectFromModel(estimator=LinearSVC(dual=False,\n                                                                            max_iter=10000,\n                                                                            penalty='l1'))),\n                                       ('model', Lasso())]),\n             param_grid={'model__alpha': array([0.01, 0.11, 0.21, 0.31, 0.41, 0.51, 0.61, 0.71, 0.81, 0.91, 1.01,\n       1.11, 1.21, 1.31, 1.41, 1.51, 1.61, 1.71, 1.81, 1.91])},\n             scoring='accuracy', verbose=False)",
      "text/html": "<style>#sk-container-id-14 {color: black;}#sk-container-id-14 pre{padding: 0;}#sk-container-id-14 div.sk-toggleable {background-color: white;}#sk-container-id-14 label.sk-toggleable__label {cursor: pointer;display: block;width: 100%;margin-bottom: 0;padding: 0.3em;box-sizing: border-box;text-align: center;}#sk-container-id-14 label.sk-toggleable__label-arrow:before {content: \"▸\";float: left;margin-right: 0.25em;color: #696969;}#sk-container-id-14 label.sk-toggleable__label-arrow:hover:before {color: black;}#sk-container-id-14 div.sk-estimator:hover label.sk-toggleable__label-arrow:before {color: black;}#sk-container-id-14 div.sk-toggleable__content {max-height: 0;max-width: 0;overflow: hidden;text-align: left;background-color: #f0f8ff;}#sk-container-id-14 div.sk-toggleable__content pre {margin: 0.2em;color: black;border-radius: 0.25em;background-color: #f0f8ff;}#sk-container-id-14 input.sk-toggleable__control:checked~div.sk-toggleable__content {max-height: 200px;max-width: 100%;overflow: auto;}#sk-container-id-14 input.sk-toggleable__control:checked~label.sk-toggleable__label-arrow:before {content: \"▾\";}#sk-container-id-14 div.sk-estimator input.sk-toggleable__control:checked~label.sk-toggleable__label {background-color: #d4ebff;}#sk-container-id-14 div.sk-label input.sk-toggleable__control:checked~label.sk-toggleable__label {background-color: #d4ebff;}#sk-container-id-14 input.sk-hidden--visually {border: 0;clip: rect(1px 1px 1px 1px);clip: rect(1px, 1px, 1px, 1px);height: 1px;margin: -1px;overflow: hidden;padding: 0;position: absolute;width: 1px;}#sk-container-id-14 div.sk-estimator {font-family: monospace;background-color: #f0f8ff;border: 1px dotted black;border-radius: 0.25em;box-sizing: border-box;margin-bottom: 0.5em;}#sk-container-id-14 div.sk-estimator:hover {background-color: #d4ebff;}#sk-container-id-14 div.sk-parallel-item::after {content: \"\";width: 100%;border-bottom: 1px solid gray;flex-grow: 1;}#sk-container-id-14 div.sk-label:hover label.sk-toggleable__label {background-color: #d4ebff;}#sk-container-id-14 div.sk-serial::before {content: \"\";position: absolute;border-left: 1px solid gray;box-sizing: border-box;top: 0;bottom: 0;left: 50%;z-index: 0;}#sk-container-id-14 div.sk-serial {display: flex;flex-direction: column;align-items: center;background-color: white;padding-right: 0.2em;padding-left: 0.2em;position: relative;}#sk-container-id-14 div.sk-item {position: relative;z-index: 1;}#sk-container-id-14 div.sk-parallel {display: flex;align-items: stretch;justify-content: center;background-color: white;position: relative;}#sk-container-id-14 div.sk-item::before, #sk-container-id-14 div.sk-parallel-item::before {content: \"\";position: absolute;border-left: 1px solid gray;box-sizing: border-box;top: 0;bottom: 0;left: 50%;z-index: -1;}#sk-container-id-14 div.sk-parallel-item {display: flex;flex-direction: column;z-index: 1;position: relative;background-color: white;}#sk-container-id-14 div.sk-parallel-item:first-child::after {align-self: flex-end;width: 50%;}#sk-container-id-14 div.sk-parallel-item:last-child::after {align-self: flex-start;width: 50%;}#sk-container-id-14 div.sk-parallel-item:only-child::after {width: 0;}#sk-container-id-14 div.sk-dashed-wrapped {border: 1px dashed gray;margin: 0 0.4em 0.5em 0.4em;box-sizing: border-box;padding-bottom: 0.4em;background-color: white;}#sk-container-id-14 div.sk-label label {font-family: monospace;font-weight: bold;display: inline-block;line-height: 1.2em;}#sk-container-id-14 div.sk-label-container {text-align: center;}#sk-container-id-14 div.sk-container {/* jupyter's `normalize.less` sets `[hidden] { display: none; }` but bootstrap.min.css set `[hidden] { display: none !important; }` so we also need the `!important` here to be able to override the default hidden behavior on the sphinx rendered scikit-learn.org. See: https://github.com/scikit-learn/scikit-learn/issues/21755 */display: inline-block !important;position: relative;}#sk-container-id-14 div.sk-text-repr-fallback {display: none;}</style><div id=\"sk-container-id-14\" class=\"sk-top-container\"><div class=\"sk-text-repr-fallback\"><pre>GridSearchCV(cv=5,\n             estimator=Pipeline(steps=[(&#x27;scaler&#x27;, StandardScaler()),\n                                       (&#x27;feature_selection&#x27;,\n                                        SelectFromModel(estimator=LinearSVC(dual=False,\n                                                                            max_iter=10000,\n                                                                            penalty=&#x27;l1&#x27;))),\n                                       (&#x27;model&#x27;, Lasso())]),\n             param_grid={&#x27;model__alpha&#x27;: array([0.01, 0.11, 0.21, 0.31, 0.41, 0.51, 0.61, 0.71, 0.81, 0.91, 1.01,\n       1.11, 1.21, 1.31, 1.41, 1.51, 1.61, 1.71, 1.81, 1.91])},\n             scoring=&#x27;accuracy&#x27;, verbose=False)</pre><b>In a Jupyter environment, please rerun this cell to show the HTML representation or trust the notebook. <br />On GitHub, the HTML representation is unable to render, please try loading this page with nbviewer.org.</b></div><div class=\"sk-container\" hidden><div class=\"sk-item sk-dashed-wrapped\"><div class=\"sk-label-container\"><div class=\"sk-label sk-toggleable\"><input class=\"sk-toggleable__control sk-hidden--visually\" id=\"sk-estimator-id-92\" type=\"checkbox\" ><label for=\"sk-estimator-id-92\" class=\"sk-toggleable__label sk-toggleable__label-arrow\">GridSearchCV</label><div class=\"sk-toggleable__content\"><pre>GridSearchCV(cv=5,\n             estimator=Pipeline(steps=[(&#x27;scaler&#x27;, StandardScaler()),\n                                       (&#x27;feature_selection&#x27;,\n                                        SelectFromModel(estimator=LinearSVC(dual=False,\n                                                                            max_iter=10000,\n                                                                            penalty=&#x27;l1&#x27;))),\n                                       (&#x27;model&#x27;, Lasso())]),\n             param_grid={&#x27;model__alpha&#x27;: array([0.01, 0.11, 0.21, 0.31, 0.41, 0.51, 0.61, 0.71, 0.81, 0.91, 1.01,\n       1.11, 1.21, 1.31, 1.41, 1.51, 1.61, 1.71, 1.81, 1.91])},\n             scoring=&#x27;accuracy&#x27;, verbose=False)</pre></div></div></div><div class=\"sk-parallel\"><div class=\"sk-parallel-item\"><div class=\"sk-item\"><div class=\"sk-label-container\"><div class=\"sk-label sk-toggleable\"><input class=\"sk-toggleable__control sk-hidden--visually\" id=\"sk-estimator-id-93\" type=\"checkbox\" ><label for=\"sk-estimator-id-93\" class=\"sk-toggleable__label sk-toggleable__label-arrow\">estimator: Pipeline</label><div class=\"sk-toggleable__content\"><pre>Pipeline(steps=[(&#x27;scaler&#x27;, StandardScaler()),\n                (&#x27;feature_selection&#x27;,\n                 SelectFromModel(estimator=LinearSVC(dual=False, max_iter=10000,\n                                                     penalty=&#x27;l1&#x27;))),\n                (&#x27;model&#x27;, Lasso())])</pre></div></div></div><div class=\"sk-serial\"><div class=\"sk-item\"><div class=\"sk-serial\"><div class=\"sk-item\"><div class=\"sk-estimator sk-toggleable\"><input class=\"sk-toggleable__control sk-hidden--visually\" id=\"sk-estimator-id-94\" type=\"checkbox\" ><label for=\"sk-estimator-id-94\" class=\"sk-toggleable__label sk-toggleable__label-arrow\">StandardScaler</label><div class=\"sk-toggleable__content\"><pre>StandardScaler()</pre></div></div></div><div class=\"sk-item sk-dashed-wrapped\"><div class=\"sk-label-container\"><div class=\"sk-label sk-toggleable\"><input class=\"sk-toggleable__control sk-hidden--visually\" id=\"sk-estimator-id-95\" type=\"checkbox\" ><label for=\"sk-estimator-id-95\" class=\"sk-toggleable__label sk-toggleable__label-arrow\">feature_selection: SelectFromModel</label><div class=\"sk-toggleable__content\"><pre>SelectFromModel(estimator=LinearSVC(dual=False, max_iter=10000, penalty=&#x27;l1&#x27;))</pre></div></div></div><div class=\"sk-parallel\"><div class=\"sk-parallel-item\"><div class=\"sk-item\"><div class=\"sk-label-container\"><div class=\"sk-label sk-toggleable\"><input class=\"sk-toggleable__control sk-hidden--visually\" id=\"sk-estimator-id-96\" type=\"checkbox\" ><label for=\"sk-estimator-id-96\" class=\"sk-toggleable__label sk-toggleable__label-arrow\">estimator: LinearSVC</label><div class=\"sk-toggleable__content\"><pre>LinearSVC(dual=False, max_iter=10000, penalty=&#x27;l1&#x27;)</pre></div></div></div><div class=\"sk-serial\"><div class=\"sk-item\"><div class=\"sk-estimator sk-toggleable\"><input class=\"sk-toggleable__control sk-hidden--visually\" id=\"sk-estimator-id-97\" type=\"checkbox\" ><label for=\"sk-estimator-id-97\" class=\"sk-toggleable__label sk-toggleable__label-arrow\">LinearSVC</label><div class=\"sk-toggleable__content\"><pre>LinearSVC(dual=False, max_iter=10000, penalty=&#x27;l1&#x27;)</pre></div></div></div></div></div></div></div></div><div class=\"sk-item\"><div class=\"sk-estimator sk-toggleable\"><input class=\"sk-toggleable__control sk-hidden--visually\" id=\"sk-estimator-id-98\" type=\"checkbox\" ><label for=\"sk-estimator-id-98\" class=\"sk-toggleable__label sk-toggleable__label-arrow\">Lasso</label><div class=\"sk-toggleable__content\"><pre>Lasso()</pre></div></div></div></div></div></div></div></div></div></div></div></div>"
     },
     "execution_count": 161,
     "metadata": {},
     "output_type": "execute_result"
    }
   ],
   "source": [
    "search.fit(X, y)"
   ],
   "metadata": {
    "collapsed": false,
    "ExecuteTime": {
     "end_time": "2023-08-21T22:13:15.623091725Z",
     "start_time": "2023-08-21T22:13:13.505494966Z"
    }
   }
  },
  {
   "cell_type": "code",
   "execution_count": 162,
   "outputs": [
    {
     "name": "stdout",
     "output_type": "stream",
     "text": [
      "GridSearchCV(cv=5,\n",
      "             estimator=Pipeline(steps=[('scaler', StandardScaler()),\n",
      "                                       ('feature_selection',\n",
      "                                        SelectFromModel(estimator=LinearSVC(dual=False,\n",
      "                                                                            max_iter=10000,\n",
      "                                                                            penalty='l1'))),\n",
      "                                       ('model', Lasso())]),\n",
      "             param_grid={'model__alpha': array([0.01, 0.11, 0.21, 0.31, 0.41, 0.51, 0.61, 0.71, 0.81, 0.91, 1.01,\n",
      "       1.11, 1.21, 1.31, 1.41, 1.51, 1.61, 1.71, 1.81, 1.91])},\n",
      "             scoring='accuracy', verbose=False)\n"
     ]
    }
   ],
   "source": [
    "print(search)"
   ],
   "metadata": {
    "collapsed": false,
    "ExecuteTime": {
     "end_time": "2023-08-21T22:13:20.479313267Z",
     "start_time": "2023-08-21T22:13:20.428105835Z"
    }
   }
  },
  {
   "cell_type": "code",
   "execution_count": 163,
   "outputs": [
    {
     "data": {
      "text/plain": "{'model__alpha': 0.01}"
     },
     "execution_count": 163,
     "metadata": {},
     "output_type": "execute_result"
    }
   ],
   "source": [
    "search.best_params_"
   ],
   "metadata": {
    "collapsed": false,
    "ExecuteTime": {
     "end_time": "2023-08-21T22:13:24.454645928Z",
     "start_time": "2023-08-21T22:13:24.425010410Z"
    }
   }
  },
  {
   "cell_type": "code",
   "execution_count": 137,
   "outputs": [
    {
     "data": {
      "text/plain": "{'cv': 5,\n 'error_score': nan,\n 'estimator__memory': None,\n 'estimator__steps': [('scaler', StandardScaler()),\n  ('feature_selection',\n   SelectFromModel(estimator=LinearSVC(dual=False, max_iter=10000, penalty='l1'))),\n  ('model', Lasso())],\n 'estimator__verbose': False,\n 'estimator__scaler': StandardScaler(),\n 'estimator__feature_selection': SelectFromModel(estimator=LinearSVC(dual=False, max_iter=10000, penalty='l1')),\n 'estimator__model': Lasso(),\n 'estimator__scaler__copy': True,\n 'estimator__scaler__with_mean': True,\n 'estimator__scaler__with_std': True,\n 'estimator__feature_selection__estimator__C': 1.0,\n 'estimator__feature_selection__estimator__class_weight': None,\n 'estimator__feature_selection__estimator__dual': False,\n 'estimator__feature_selection__estimator__fit_intercept': True,\n 'estimator__feature_selection__estimator__intercept_scaling': 1,\n 'estimator__feature_selection__estimator__loss': 'squared_hinge',\n 'estimator__feature_selection__estimator__max_iter': 10000,\n 'estimator__feature_selection__estimator__multi_class': 'ovr',\n 'estimator__feature_selection__estimator__penalty': 'l1',\n 'estimator__feature_selection__estimator__random_state': None,\n 'estimator__feature_selection__estimator__tol': 0.0001,\n 'estimator__feature_selection__estimator__verbose': 0,\n 'estimator__feature_selection__estimator': LinearSVC(dual=False, max_iter=10000, penalty='l1'),\n 'estimator__feature_selection__importance_getter': 'auto',\n 'estimator__feature_selection__max_features': None,\n 'estimator__feature_selection__norm_order': 1,\n 'estimator__feature_selection__prefit': False,\n 'estimator__feature_selection__threshold': None,\n 'estimator__model__alpha': 1.0,\n 'estimator__model__copy_X': True,\n 'estimator__model__fit_intercept': True,\n 'estimator__model__max_iter': 1000,\n 'estimator__model__positive': False,\n 'estimator__model__precompute': False,\n 'estimator__model__random_state': None,\n 'estimator__model__selection': 'cyclic',\n 'estimator__model__tol': 0.0001,\n 'estimator__model__warm_start': False,\n 'estimator': Pipeline(steps=[('scaler', StandardScaler()),\n                 ('feature_selection',\n                  SelectFromModel(estimator=LinearSVC(dual=False, max_iter=10000,\n                                                      penalty='l1'))),\n                 ('model', Lasso())]),\n 'n_jobs': 20,\n 'param_grid': {'model__alpha': array([0.01, 0.11, 0.21, 0.31, 0.41, 0.51, 0.61, 0.71, 0.81, 0.91, 1.01,\n         1.11, 1.21, 1.31, 1.41, 1.51, 1.61, 1.71, 1.81, 1.91])},\n 'pre_dispatch': '2*n_jobs',\n 'refit': True,\n 'return_train_score': False,\n 'scoring': 'roc_auc',\n 'verbose': False}"
     },
     "execution_count": 137,
     "metadata": {},
     "output_type": "execute_result"
    }
   ],
   "source": [
    "search.get_params()"
   ],
   "metadata": {
    "collapsed": false,
    "ExecuteTime": {
     "end_time": "2023-08-21T22:07:46.121485919Z",
     "start_time": "2023-08-21T22:07:46.066024266Z"
    }
   }
  },
  {
   "cell_type": "code",
   "execution_count": 164,
   "outputs": [
    {
     "data": {
      "text/plain": "nan"
     },
     "execution_count": 164,
     "metadata": {},
     "output_type": "execute_result"
    }
   ],
   "source": [
    "search.best_score_"
   ],
   "metadata": {
    "collapsed": false,
    "ExecuteTime": {
     "end_time": "2023-08-21T22:13:28.416727629Z",
     "start_time": "2023-08-21T22:13:28.376740666Z"
    }
   }
  },
  {
   "cell_type": "markdown",
   "source": [
    "## Coefficients and features from the best fit"
   ],
   "metadata": {
    "collapsed": false
   }
  },
  {
   "cell_type": "code",
   "execution_count": 167,
   "outputs": [
    {
     "name": "stdout",
     "output_type": "stream",
     "text": [
      "[(-0.0988332590737932, 'MMP10'),\n",
      " (0.09291681287804597, 'SORT1'),\n",
      " (0.06713461477035278, 'TTR'),\n",
      " (-0.043353296784376855, 'GCG_0001'),\n",
      " (0.005543907958337834, 'FGF2')]\n"
     ]
    }
   ],
   "source": [
    "import math\n",
    "import pprint\n",
    "\n",
    "coefficients = search.best_estimator_.named_steps['model'].coef_\n",
    "tup = list(zip(coefficients, features))\n",
    "tup = sorted(tup,  key=lambda x: abs(x[0]), reverse=True)\n",
    "tup = [x for x in tup if not math.isclose(x[0], 0)]\n",
    "pprint.pprint(tup)"
   ],
   "metadata": {
    "collapsed": false,
    "ExecuteTime": {
     "end_time": "2023-08-21T22:14:11.216144628Z",
     "start_time": "2023-08-21T22:14:11.193527787Z"
    }
   }
  },
  {
   "cell_type": "markdown",
   "source": [
    "## Permutation Tests"
   ],
   "metadata": {
    "collapsed": false
   }
  },
  {
   "cell_type": "code",
   "execution_count": 169,
   "outputs": [],
   "source": [
    "# Add random features and the classifier score should go down.\n",
    "n_uncorrelated_features = 20\n",
    "rng = np.random.RandomState(seed=0)\n",
    "# Use same number of samples as in the psych data and 20 features\n",
    "X_rand = rng.normal(size=(X.shape[0], n_uncorrelated_features))"
   ],
   "metadata": {
    "collapsed": false,
    "ExecuteTime": {
     "end_time": "2023-08-21T22:18:40.481705645Z",
     "start_time": "2023-08-21T22:18:40.266825131Z"
    }
   }
  },
  {
   "cell_type": "markdown",
   "source": [
    "### Permutation test over the data, and data including random features"
   ],
   "metadata": {
    "collapsed": false
   }
  },
  {
   "cell_type": "code",
   "execution_count": 170,
   "outputs": [],
   "source": [
    "from sklearn.model_selection import StratifiedKFold\n",
    "from sklearn.model_selection import permutation_test_score\n",
    "\n",
    "clf = search\n",
    "cv = StratifiedKFold(2, shuffle=True, random_state=0)\n",
    "\n",
    "score_psych, perm_scores_psych, pvalue_psych = permutation_test_score(\n",
    "    clf, X, y, cv=cv, n_permutations=1000, scoring=\"roc_auc\", verbose=False\n",
    ")\n",
    "\n",
    "score_rand, perm_scores_rand, pvalue_rand = permutation_test_score(\n",
    "    clf, X_rand, y, cv=cv, n_permutations=1000, scoring=\"roc_auc\", verbose=False)"
   ],
   "metadata": {
    "collapsed": false,
    "ExecuteTime": {
     "end_time": "2023-08-21T23:16:26.491677377Z",
     "start_time": "2023-08-21T22:19:59.255932136Z"
    }
   }
  },
  {
   "cell_type": "code",
   "execution_count": 171,
   "outputs": [
    {
     "data": {
      "text/plain": "<Figure size 640x480 with 1 Axes>",
      "image/png": "[encoded data removed]"
     },
     "metadata": {},
     "output_type": "display_data"
    }
   ],
   "source": [
    "import matplotlib.pyplot as plt\n",
    "\n",
    "fig, ax = plt.subplots()\n",
    "\n",
    "ax.hist(perm_scores_psych, bins=20, density=True)\n",
    "ax.axvline(score_psych, ls=\"--\", color=\"r\")\n",
    "score_label = f\"Score on original\\ndata: {score_psych:.2f}\\n(p-value: {pvalue_psych:.3f})\"\n",
    "ax.text(0.7, 10, score_label, fontsize=12)\n",
    "ax.set_xlabel(\"Accuracy score\")\n",
    "_ = ax.set_ylabel(\"Probability\")"
   ],
   "metadata": {
    "collapsed": false,
    "ExecuteTime": {
     "end_time": "2023-08-21T23:16:26.690121180Z",
     "start_time": "2023-08-21T23:16:26.533303094Z"
    }
   }
  },
  {
   "cell_type": "code",
   "execution_count": 172,
   "outputs": [
    {
     "data": {
      "text/plain": "<Figure size 640x480 with 1 Axes>",
      "image/png": "[encoded data removed]"
     },
     "metadata": {},
     "output_type": "display_data"
    }
   ],
   "source": [
    "_, ax = plt.subplots()\n",
    "\n",
    "ax.hist(perm_scores_rand, bins=20, density=True)\n",
    "ax.set_xlim(0.13)\n",
    "ax.axvline(score_rand, ls=\"--\", color=\"r\")\n",
    "score_label = f\"Score on original\\ndata: {score_rand:.2f}\\n(p-value: {pvalue_rand:.3f})\"\n",
    "ax.text(0.14, 7.5, score_label, fontsize=12)\n",
    "ax.set_xlabel(\"Accuracy score\")\n",
    "ax.set_ylabel(\"Probability\")\n",
    "plt.show()"
   ],
   "metadata": {
    "collapsed": false,
    "ExecuteTime": {
     "end_time": "2023-08-21T23:16:27.073747440Z",
     "start_time": "2023-08-21T23:16:26.706254078Z"
    }
   }
  }
 ],
 "metadata": {
  "kernelspec": {
   "display_name": "Python 3",
   "language": "python",
   "name": "python3"
  },
  "language_info": {
   "codemirror_mode": {
    "name": "ipython",
    "version": 2
   },
   "file_extension": ".py",
   "mimetype": "text/x-python",
   "name": "python",
   "nbconvert_exporter": "python",
   "pygments_lexer": "ipython2",
   "version": "2.7.6"
  }
 },
 "nbformat": 4,
 "nbformat_minor": 0
}
