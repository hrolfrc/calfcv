{
 "cells": [
  {
   "cell_type": "markdown",
   "source": [
    "\n",
    "# Small pathological example\n",
    "\n",
    "This example shows that AUC according to the R version of Calf may be meaningless when the data is collinear."
   ],
   "metadata": {
    "collapsed": false
   }
  },
  {
   "cell_type": "code",
   "execution_count": 41,
   "outputs": [],
   "source": [
    "# Author: Rolf Carlson, Carlson Research LLC, <hrolfrc@gmail.com>\n",
    "# License: 3-clause BSD"
   ],
   "metadata": {
    "collapsed": false,
    "ExecuteTime": {
     "end_time": "2023-08-21T21:28:12.373896615Z",
     "start_time": "2023-08-21T21:28:12.059042713Z"
    }
   }
  },
  {
   "cell_type": "markdown",
   "source": [
    "Here is a description of the problem"
   ],
   "metadata": {
    "collapsed": false
   }
  },
  {
   "cell_type": "code",
   "execution_count": 42,
   "outputs": [],
   "source": [
    "#   For five subjects, suppose the control = 0, case = 1 status is\n",
    "# \n",
    "#   0\n",
    "#   0\n",
    "#   0\n",
    "#   1\n",
    "#   1\n",
    "# \n",
    "#   Suppose for five markers the observed values (column = a marker) are\n",
    "# \n",
    "#   0.3801\t0.2484\t-0.1280\t-0.5741\t1.0631\n",
    "#   -0.9703\t-0.5551\t-0.3680\t1.1324\t-1.0930\n",
    "#   0.5148\t-0.9927\t0.2833\t1.0068\t0.5449\n",
    "#   1.1880\t1.5985\t-1.2621\t-0.5094\t0.5316\n",
    "#   -1.1126\t-0.2992\t1.4748\t-1.0558\t-1.0467\n",
    "# \n",
    "#   What weight vector provides us with AUC = 1.0?\n",
    "# \n",
    "#   Running the problem through calf gets the following:\n",
    "# \n",
    "#   Marker  Weight\n",
    "#     F4       1\n",
    "#     F2      -1\n",
    "#     F5       1\n",
    "# \n",
    "#   AUC: 1.0\n",
    "#   Final p-value: 0.05582771541247467"
   ],
   "metadata": {
    "collapsed": false,
    "ExecuteTime": {
     "end_time": "2023-08-21T21:28:12.480374990Z",
     "start_time": "2023-08-21T21:28:12.072766271Z"
    }
   }
  },
  {
   "cell_type": "code",
   "execution_count": 43,
   "metadata": {
    "collapsed": false,
    "ExecuteTime": {
     "end_time": "2023-08-21T21:28:12.498035353Z",
     "start_time": "2023-08-21T21:28:12.085796268Z"
    }
   },
   "outputs": [],
   "source": [
    "import matplotlib.pyplot as plt\n",
    "from scipy.stats import spearmanr\n",
    "from scipy.cluster import hierarchy\n",
    "from scipy.spatial.distance import squareform\n",
    "from sklearn.inspection import permutation_importance\n",
    "from sklearn.linear_model import Lasso\n",
    "import numpy as np\n",
    "import re\n",
    "import pprint\n",
    "\n",
    "rng = np.random.default_rng()\n",
    "import seaborn as sns\n",
    "sns.set_theme(style=\"darkgrid\")"
   ]
  },
  {
   "cell_type": "markdown",
   "metadata": {},
   "source": [
    "## Create the problem"
   ]
  },
  {
   "cell_type": "code",
   "execution_count": 44,
   "metadata": {
    "collapsed": false,
    "ExecuteTime": {
     "end_time": "2023-08-21T21:28:12.498236133Z",
     "start_time": "2023-08-21T21:28:12.133249465Z"
    }
   },
   "outputs": [],
   "source": [
    "X_str = \"\"\"0.3801\t0.2484\t-0.1280\t-0.5741\t1.0631\n",
    "-0.9703\t-0.5551\t-0.3680\t1.1324\t-1.0930\n",
    "0.5148\t-0.9927\t0.2833\t1.0068\t0.5449\n",
    "1.1880\t1.5985\t-1.2621\t-0.5094\t0.5316\n",
    "-1.1126\t-0.2992\t1.4748\t-1.0558\t-1.0467\n",
    "\"\"\"\n",
    "# convert whitespace to a single space\n",
    "X_str = re.sub(r\"\\s+\", \" \", X_str)\n",
    "\n",
    "# make an array\n",
    "X = np.fromstring(X_str, dtype='float64', sep=' ')\n",
    "X = X.reshape(5, 5)\n",
    "# X = X.tolist()\n",
    "# print(X)\n",
    "y = np.array([0, 0, 0, 1, 1]).reshape(5, 1)\n",
    "# # Y = [0, 0, 0, 1, 1]\n",
    "# x = X.astype('float64')\n",
    "# y = Y.astype('float64')\n",
    "feature_names = ['F1', 'F2', 'F3', 'F4', 'F5']"
   ]
  },
  {
   "cell_type": "code",
   "execution_count": 45,
   "outputs": [
    {
     "data": {
      "text/plain": "array([[ 0.3801,  0.2484, -0.128 , -0.5741,  1.0631],\n       [-0.9703, -0.5551, -0.368 ,  1.1324, -1.093 ],\n       [ 0.5148, -0.9927,  0.2833,  1.0068,  0.5449],\n       [ 1.188 ,  1.5985, -1.2621, -0.5094,  0.5316],\n       [-1.1126, -0.2992,  1.4748, -1.0558, -1.0467]])"
     },
     "execution_count": 45,
     "metadata": {},
     "output_type": "execute_result"
    }
   ],
   "source": [
    "X"
   ],
   "metadata": {
    "collapsed": false,
    "ExecuteTime": {
     "end_time": "2023-08-21T21:28:12.498596681Z",
     "start_time": "2023-08-21T21:28:12.133455077Z"
    }
   }
  },
  {
   "cell_type": "code",
   "execution_count": 46,
   "outputs": [
    {
     "data": {
      "text/plain": "array([[0],\n       [0],\n       [0],\n       [1],\n       [1]])"
     },
     "execution_count": 46,
     "metadata": {},
     "output_type": "execute_result"
    }
   ],
   "source": [
    "y"
   ],
   "metadata": {
    "collapsed": false,
    "ExecuteTime": {
     "end_time": "2023-08-21T21:28:12.498890858Z",
     "start_time": "2023-08-21T21:28:12.133569256Z"
    }
   }
  },
  {
   "cell_type": "markdown",
   "source": [
    "## Generalization failure"
   ],
   "metadata": {
    "collapsed": false
   }
  },
  {
   "cell_type": "markdown",
   "source": [
    "Lasso does not learn enough to predict the data"
   ],
   "metadata": {
    "collapsed": false
   }
  },
  {
   "cell_type": "code",
   "execution_count": 47,
   "outputs": [
    {
     "name": "stdout",
     "output_type": "stream",
     "text": [
      "Accuracy on the data: 0.00\n"
     ]
    }
   ],
   "source": [
    "clf = Lasso().fit(X, y)\n",
    "print(\"Accuracy on the data: {:.2f}\".format(clf.score(X, y)))"
   ],
   "metadata": {
    "collapsed": false,
    "ExecuteTime": {
     "end_time": "2023-08-21T21:28:12.499431630Z",
     "start_time": "2023-08-21T21:28:12.177330474Z"
    }
   }
  },
  {
   "cell_type": "markdown",
   "source": [
    "None of the features are identified as important"
   ],
   "metadata": {
    "collapsed": false
   }
  },
  {
   "cell_type": "code",
   "execution_count": 48,
   "outputs": [
    {
     "name": "stdout",
     "output_type": "stream",
     "text": [
      "{'importances': array([[0., 0., 0., 0., 0., 0., 0., 0., 0., 0.],\n",
      "       [0., 0., 0., 0., 0., 0., 0., 0., 0., 0.],\n",
      "       [0., 0., 0., 0., 0., 0., 0., 0., 0., 0.],\n",
      "       [0., 0., 0., 0., 0., 0., 0., 0., 0., 0.],\n",
      "       [0., 0., 0., 0., 0., 0., 0., 0., 0., 0.]]),\n",
      " 'importances_mean': array([0., 0., 0., 0., 0.]),\n",
      " 'importances_std': array([0., 0., 0., 0., 0.])}\n"
     ]
    }
   ],
   "source": [
    "result = permutation_importance(clf, X, y, n_repeats=10, random_state=42, n_jobs=-1)\n",
    "selected_features = []\n",
    "perm_sorted_idx = []\n",
    "for i in result.importances_mean.argsort()[::-1]:\n",
    "    # defining importance as the mean - 2 stdev produces a better prediction\n",
    "    # than just mean\n",
    "    if  result.importances_mean[i] - 2 * result.importances_std[i] > 0.003:\n",
    "        selected_features.append(feature_names[i])\n",
    "        perm_sorted_idx.append(i)\n",
    "        print(f\"{feature_names[i]: <8}\"\n",
    "              f\"{result.importances_mean[i]: .3f}\"\n",
    "              f\" +/- {result.importances_std[i]: .3f}\")\n",
    "        \n",
    "pprint.pprint(result)"
   ],
   "metadata": {
    "collapsed": false,
    "ExecuteTime": {
     "end_time": "2023-08-21T21:28:12.792355052Z",
     "start_time": "2023-08-21T21:28:12.177878101Z"
    }
   }
  }
 ],
 "metadata": {
  "kernelspec": {
   "display_name": "Python 3",
   "language": "python",
   "name": "python3"
  },
  "language_info": {
   "codemirror_mode": {
    "name": "ipython",
    "version": 3
   },
   "file_extension": ".py",
   "mimetype": "text/x-python",
   "name": "python",
   "nbconvert_exporter": "python",
   "pygments_lexer": "ipython3",
   "version": "3.9.15"
  }
 },
 "nbformat": 4,
 "nbformat_minor": 0
}
