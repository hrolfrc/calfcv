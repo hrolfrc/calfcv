{
 "cells": [
  {
   "cell_type": "markdown",
   "source": [
    "# Sentiment analysis with sparse features\n",
    "\n",
    "Predict sentiment on the IMDB database using `Calf`.  This example shows that Calf can efficiently fit and predict using a sparse feature matrix produced by TfidfVectorizer.   For this small example, we select 400 movie reviews out of 25000.  Even with the limited number of samples, the bag of word model expands the number of feature columns to 9576.  Calf learns the training sets.  As expected, Calf needs more examples to show skill predicting unseen reviews.  "
   ],
   "metadata": {
    "collapsed": false
   },
   "id": "693ab6f933dd7134"
  },
  {
   "cell_type": "markdown",
   "source": [
    "Author: Rolf Carlson, Carlson Research LLC, <hrolfrc@gmail.com>"
   ],
   "metadata": {
    "collapsed": false
   },
   "id": "20c9d88c58c9fa6f"
  },
  {
   "cell_type": "markdown",
   "source": [
    "License: 3-clause BSD"
   ],
   "metadata": {
    "collapsed": false
   },
   "id": "c5c1c0fadf39a482"
  },
  {
   "cell_type": "markdown",
   "source": [
    "### Get the data"
   ],
   "metadata": {
    "collapsed": false
   },
   "id": "70dc2513cab12e15"
  },
  {
   "cell_type": "code",
   "execution_count": 11,
   "outputs": [],
   "source": [
    "from sklearn.datasets import load_files\n",
    "from sklearn.feature_extraction.text import TfidfVectorizer\n",
    "from sklearn.metrics import roc_auc_score\n",
    "from calfcv import Calf"
   ],
   "metadata": {
    "collapsed": false,
    "ExecuteTime": {
     "end_time": "2023-08-18T01:26:54.836195052Z",
     "start_time": "2023-08-18T01:26:54.579327655Z"
    }
   },
   "id": "e9a5475b924c276f"
  },
  {
   "cell_type": "markdown",
   "source": [
    "Read the sentiment"
   ],
   "metadata": {
    "collapsed": false
   },
   "id": "15f256dae62b80c3"
  },
  {
   "cell_type": "code",
   "execution_count": 12,
   "outputs": [],
   "source": [
    "im_train = load_files('../../data/imdb/train/', shuffle=False)\n",
    "im_test = load_files('../../data/imdb/test/', shuffle=False)"
   ],
   "metadata": {
    "collapsed": false,
    "ExecuteTime": {
     "end_time": "2023-08-18T01:26:54.894624887Z",
     "start_time": "2023-08-18T01:26:54.591382700Z"
    }
   },
   "id": "891b92525f7724fb"
  },
  {
   "cell_type": "markdown",
   "source": [
    "Create the train and test datasets"
   ],
   "metadata": {
    "collapsed": false
   },
   "id": "3289555597dde7c4"
  },
  {
   "cell_type": "code",
   "execution_count": 13,
   "outputs": [
    {
     "name": "stdout",
     "output_type": "stream",
     "text": [
      "200 (200, 9576)\n",
      "200 (200, 9576)\n"
     ]
    }
   ],
   "source": [
    "corpus = im_train.data + im_test.data\n",
    "y = list(im_train.target) + list(im_test.target)\n",
    "y_train, y_test = list(im_train.target), list(im_test.target)\n",
    "X = TfidfVectorizer().fit_transform(corpus)\n",
    "\n",
    "X_train = X[0:len(im_train.data), :]\n",
    "X_test = X[len(im_train.data)::, :]\n",
    "\n",
    "print(len(y_train), X_train.shape)\n",
    "assert len(y_train) == X_train.shape[0], \"y_train wrong shape\"\n",
    "print(len(y_test), X_test.shape)\n",
    "assert len(y_test) == X_test.shape[0], \"y_test wrong shape\""
   ],
   "metadata": {
    "collapsed": false,
    "ExecuteTime": {
     "end_time": "2023-08-18T01:26:55.051748975Z",
     "start_time": "2023-08-18T01:26:54.637472288Z"
    }
   },
   "id": "8d72b075efb39e18"
  },
  {
   "cell_type": "markdown",
   "source": [
    "### Predict seen sentiment"
   ],
   "metadata": {
    "collapsed": false
   },
   "id": "6b860daeb1e4492f"
  },
  {
   "cell_type": "markdown",
   "source": [
    "Predict the corpus\n",
    "\n",
    "This prediction of the corpus should have an AUC near 1"
   ],
   "metadata": {
    "collapsed": false
   },
   "id": "793a8f1f66c4c8dd"
  },
  {
   "cell_type": "code",
   "execution_count": 14,
   "outputs": [
    {
     "data": {
      "text/plain": "0.9425"
     },
     "execution_count": 14,
     "metadata": {},
     "output_type": "execute_result"
    }
   ],
   "source": [
    "clf = Calf().fit(X, y)\n",
    "y_pred = clf.predict(X)\n",
    "roc_auc_score(y, y_pred)"
   ],
   "metadata": {
    "collapsed": false,
    "ExecuteTime": {
     "end_time": "2023-08-18T01:27:01.618467682Z",
     "start_time": "2023-08-18T01:26:54.784772934Z"
    }
   },
   "id": "1228fde14c73e549"
  },
  {
   "cell_type": "markdown",
   "source": [
    "With only 200 samples, Calf demonstrates poor skill at predicting sentiment in the training data after having learned the corpus.   There needs to be more training data."
   ],
   "metadata": {
    "collapsed": false
   },
   "id": "b4f1eb35007cb44b"
  },
  {
   "cell_type": "code",
   "execution_count": 15,
   "outputs": [
    {
     "data": {
      "text/plain": "0.9349999999999999"
     },
     "execution_count": 15,
     "metadata": {},
     "output_type": "execute_result"
    }
   ],
   "source": [
    "y_pred = clf.predict(X_train)\n",
    "roc_auc_score(y_train, y_pred)"
   ],
   "metadata": {
    "collapsed": false,
    "ExecuteTime": {
     "end_time": "2023-08-18T01:27:01.637178354Z",
     "start_time": "2023-08-18T01:27:01.621574521Z"
    }
   },
   "id": "587f5a7aa0500edb"
  },
  {
   "cell_type": "markdown",
   "source": [
    "Calf demonstrates skill at learning the testing data."
   ],
   "metadata": {
    "collapsed": false
   },
   "id": "ce3db2b8bcd013e4"
  },
  {
   "cell_type": "code",
   "execution_count": 16,
   "outputs": [
    {
     "data": {
      "text/plain": "0.945"
     },
     "execution_count": 16,
     "metadata": {},
     "output_type": "execute_result"
    }
   ],
   "source": [
    "y_pred = clf.predict(X_test)\n",
    "roc_auc_score(y_test, y_pred)"
   ],
   "metadata": {
    "collapsed": false,
    "ExecuteTime": {
     "end_time": "2023-08-18T01:27:01.682638315Z",
     "start_time": "2023-08-18T01:27:01.631401438Z"
    }
   },
   "id": "8eb45f3ff1af247a"
  },
  {
   "cell_type": "markdown",
   "source": [
    "Training and predicting the training data results in a high AUC, even for a small number of samples."
   ],
   "metadata": {
    "collapsed": false
   },
   "id": "b03c658c1e2f99f4"
  },
  {
   "cell_type": "code",
   "execution_count": 17,
   "outputs": [
    {
     "data": {
      "text/plain": "0.9099999999999999"
     },
     "execution_count": 17,
     "metadata": {},
     "output_type": "execute_result"
    }
   ],
   "source": [
    "clf = Calf().fit(X_train, y_train)\n",
    "y_pred = clf.predict(X_train)\n",
    "roc_auc_score(y_train, y_pred)"
   ],
   "metadata": {
    "collapsed": false,
    "ExecuteTime": {
     "end_time": "2023-08-18T01:27:05.366265253Z",
     "start_time": "2023-08-18T01:27:01.640563743Z"
    }
   },
   "id": "aaddb720e23b16d7"
  },
  {
   "cell_type": "markdown",
   "source": [
    "Similarly, Calf learns the testing data"
   ],
   "metadata": {
    "collapsed": false
   },
   "id": "ead8de72ab06bdee"
  },
  {
   "cell_type": "code",
   "execution_count": 18,
   "outputs": [
    {
     "data": {
      "text/plain": "0.93"
     },
     "execution_count": 18,
     "metadata": {},
     "output_type": "execute_result"
    }
   ],
   "source": [
    "clf = Calf().fit(X_test, y_test)\n",
    "y_pred = clf.predict(X_test)\n",
    "roc_auc_score(y_test, y_pred)"
   ],
   "metadata": {
    "collapsed": false,
    "ExecuteTime": {
     "end_time": "2023-08-18T01:27:10.122204422Z",
     "start_time": "2023-08-18T01:27:05.324883830Z"
    }
   },
   "id": "cce078083368dc63"
  },
  {
   "cell_type": "markdown",
   "source": [
    "### Predict unseen sentiment"
   ],
   "metadata": {
    "collapsed": false
   },
   "id": "9c20c36b69fc7d8"
  },
  {
   "cell_type": "markdown",
   "source": [
    "Calf does not have enough training data to show skill predicting the testing set"
   ],
   "metadata": {
    "collapsed": false
   },
   "id": "94874b3f21b9c96f"
  },
  {
   "cell_type": "code",
   "execution_count": 19,
   "outputs": [
    {
     "data": {
      "text/plain": "0.61"
     },
     "execution_count": 19,
     "metadata": {},
     "output_type": "execute_result"
    }
   ],
   "source": [
    "clf = Calf().fit(X_train, y_train)\n",
    "y_pred = clf.predict(X_test)\n",
    "roc_auc_score(y_test, y_pred)"
   ],
   "metadata": {
    "collapsed": false,
    "ExecuteTime": {
     "end_time": "2023-08-18T01:27:13.784877790Z",
     "start_time": "2023-08-18T01:27:10.123992625Z"
    }
   },
   "id": "a5584f6a864e061b"
  },
  {
   "cell_type": "markdown",
   "source": [
    "Predict the probability of the sentiment class requires additional training"
   ],
   "metadata": {
    "collapsed": false
   },
   "id": "c378eb1ca0f6379b"
  },
  {
   "cell_type": "code",
   "execution_count": 20,
   "outputs": [
    {
     "data": {
      "text/plain": "0.6234500000000001"
     },
     "execution_count": 20,
     "metadata": {},
     "output_type": "execute_result"
    }
   ],
   "source": [
    "y_pred = clf.predict_proba(X_test)[:, 1]\n",
    "roc_auc_score(y_test, y_pred)"
   ],
   "metadata": {
    "collapsed": false,
    "ExecuteTime": {
     "end_time": "2023-08-18T01:27:13.786411638Z",
     "start_time": "2023-08-18T01:27:13.770785234Z"
    }
   },
   "id": "initial_id"
  }
 ],
 "metadata": {
  "kernelspec": {
   "display_name": "Python 3",
   "language": "python",
   "name": "python3"
  },
  "language_info": {
   "codemirror_mode": {
    "name": "ipython",
    "version": 2
   },
   "file_extension": ".py",
   "mimetype": "text/x-python",
   "name": "python",
   "nbconvert_exporter": "python",
   "pygments_lexer": "ipython2",
   "version": "2.7.6"
  }
 },
 "nbformat": 4,
 "nbformat_minor": 5
}
