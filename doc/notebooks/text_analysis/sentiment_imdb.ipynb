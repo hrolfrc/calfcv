{
 "cells": [
  {
   "cell_type": "markdown",
   "source": [
    "# Sentiment analysis of positive and negative IMDB reviews\n",
    "\n",
    "Predict positive and negative sentiment on the IMDB database [1] using `Calf`.  This example shows that Calf can efficiently fit and predict using a sparse feature matrix produced by TfidfVectorizer.  Notably, calfcv successfully handled IMDB sentiment classification using a 50,000 x 101,895 feature matrix with multiprocessing and stable memory use. Auc of 0.93 was achieved for predicting sentiment of the positive and negative classes, demonstrating its performance. We start with a small example."
   ],
   "metadata": {
    "collapsed": false
   },
   "id": "693ab6f933dd7134"
  },
  {
   "cell_type": "code",
   "execution_count": 40,
   "outputs": [],
   "source": [
    "# Author: Rolf Carlson, Carlson Research LLC, <hrolfrc@gmail.com>\n",
    "# License: BSD 3 clause"
   ],
   "metadata": {
    "collapsed": false,
    "ExecuteTime": {
     "end_time": "2023-08-21T17:38:09.477628563Z",
     "start_time": "2023-08-21T17:38:09.232605730Z"
    }
   },
   "id": "5e754be6d3fe9de2"
  },
  {
   "cell_type": "markdown",
   "source": [
    "### Get the data"
   ],
   "metadata": {
    "collapsed": false
   },
   "id": "70dc2513cab12e15"
  },
  {
   "cell_type": "code",
   "execution_count": 41,
   "outputs": [],
   "source": [
    "from sklearn.datasets import load_files\n",
    "from sklearn.feature_extraction.text import TfidfVectorizer\n",
    "from sklearn.linear_model import LogisticRegression\n",
    "from sklearn.model_selection import train_test_split\n",
    "from sklearn.metrics import roc_auc_score\n",
    "from collections import Counter\n",
    "import numpy as np\n",
    "from calfcv import Calf"
   ],
   "metadata": {
    "collapsed": false,
    "ExecuteTime": {
     "end_time": "2023-08-21T17:38:09.590077957Z",
     "start_time": "2023-08-21T17:38:09.243685018Z"
    }
   },
   "id": "e9a5475b924c276f"
  },
  {
   "cell_type": "markdown",
   "source": [
    "Read the sentiment"
   ],
   "metadata": {
    "collapsed": false
   },
   "id": "15f256dae62b80c3"
  },
  {
   "cell_type": "markdown",
   "source": [
    "We downloaded the sentiment dataset from https://ai.stanford.edu/~amaas/data/sentiment/ and installed it in the /srv/imdb/ directory.  You will need to download the dataset and make it available to run this notebook.  Change the path in the following cell to point to your copy of the data.\n"
   ],
   "metadata": {
    "collapsed": false
   },
   "id": "210fa739d09f1d6e"
  },
  {
   "cell_type": "code",
   "execution_count": 42,
   "outputs": [],
   "source": [
    "im_train = load_files('/srv/imdb/train/', shuffle=False)\n",
    "im_test = load_files('/srv/imdb/test/', shuffle=False)"
   ],
   "metadata": {
    "collapsed": false,
    "ExecuteTime": {
     "end_time": "2023-08-21T17:38:12.167987938Z",
     "start_time": "2023-08-21T17:38:09.252165393Z"
    }
   },
   "id": "891b92525f7724fb"
  },
  {
   "cell_type": "markdown",
   "source": [
    "Create the train and test datasets"
   ],
   "metadata": {
    "collapsed": false
   },
   "id": "3289555597dde7c4"
  },
  {
   "cell_type": "code",
   "execution_count": 43,
   "outputs": [],
   "source": [
    "corpus = im_train.data + im_test.data\n",
    "y_all = list(im_train.target) + list(im_test.target)"
   ],
   "metadata": {
    "collapsed": false,
    "ExecuteTime": {
     "end_time": "2023-08-21T17:38:12.224639650Z",
     "start_time": "2023-08-21T17:38:12.209367268Z"
    }
   },
   "id": "37aaa7b0bb3c387c"
  },
  {
   "cell_type": "code",
   "execution_count": 44,
   "outputs": [
    {
     "data": {
      "text/plain": "Counter({0: 25000, 1: 25000, 2: 50000})"
     },
     "execution_count": 44,
     "metadata": {},
     "output_type": "execute_result"
    }
   ],
   "source": [
    "# count the classes\n",
    "Counter(y_all)"
   ],
   "metadata": {
    "collapsed": false,
    "ExecuteTime": {
     "end_time": "2023-08-21T17:38:12.225346229Z",
     "start_time": "2023-08-21T17:38:12.209681146Z"
    }
   },
   "id": "9e6d11137c3e346a"
  },
  {
   "cell_type": "markdown",
   "source": [
    "Class 2 is neutral sentiment.  We want only positive and negative sentiment."
   ],
   "metadata": {
    "collapsed": false
   },
   "id": "8d8a6aa5603390f4"
  },
  {
   "cell_type": "code",
   "execution_count": 45,
   "outputs": [],
   "source": [
    "index = [i for i in range(len(y_all)) if y_all[i] in [0, 1]]\n",
    "y = np.array(y_all)[index]\n",
    "X_uv = np.array(corpus)[index]"
   ],
   "metadata": {
    "collapsed": false,
    "ExecuteTime": {
     "end_time": "2023-08-21T17:38:13.071098612Z",
     "start_time": "2023-08-21T17:38:12.221508865Z"
    }
   },
   "id": "dd33b5043db81103"
  },
  {
   "cell_type": "markdown",
   "source": [
    "There are 25000 records in each positive and negative class"
   ],
   "metadata": {
    "collapsed": false
   },
   "id": "38602703e0089897"
  },
  {
   "cell_type": "code",
   "execution_count": 46,
   "outputs": [
    {
     "data": {
      "text/plain": "Counter({0: 25000, 1: 25000})"
     },
     "execution_count": 46,
     "metadata": {},
     "output_type": "execute_result"
    }
   ],
   "source": [
    "Counter(y)"
   ],
   "metadata": {
    "collapsed": false,
    "ExecuteTime": {
     "end_time": "2023-08-21T17:38:13.072098722Z",
     "start_time": "2023-08-21T17:38:13.061595610Z"
    }
   },
   "id": "e7770c6a48ee71a7"
  },
  {
   "cell_type": "code",
   "execution_count": 47,
   "outputs": [],
   "source": [
    "X = TfidfVectorizer().fit_transform(X_uv)"
   ],
   "metadata": {
    "collapsed": false,
    "ExecuteTime": {
     "end_time": "2023-08-21T17:38:21.146002731Z",
     "start_time": "2023-08-21T17:38:13.068567445Z"
    }
   },
   "id": "c0b45d28e0955a3a"
  },
  {
   "cell_type": "markdown",
   "source": [
    "## Predict sentiment on a small dataset\n",
    "For this small example, we select 400 movie reviews out of 25000.  Even with the limited number of samples, the bag of word model expands the number of feature columns to 9576.  Calf learns the training sets.  As expected, Calf needs more examples to show skill predicting unseen reviews.  "
   ],
   "metadata": {
    "collapsed": false
   },
   "id": "6b4cf34daf03232f"
  },
  {
   "cell_type": "code",
   "execution_count": 48,
   "outputs": [],
   "source": [
    "X_train, X_test, y_train, y_test = train_test_split(\n",
    "    X, y, \n",
    "    train_size=200,\n",
    "    test_size=200,\n",
    "    stratify=y, \n",
    "    random_state=42\n",
    ")"
   ],
   "metadata": {
    "collapsed": false,
    "ExecuteTime": {
     "end_time": "2023-08-21T17:38:21.146381417Z",
     "start_time": "2023-08-21T17:38:21.111920463Z"
    }
   },
   "id": "7e16f46c13a8a02"
  },
  {
   "cell_type": "code",
   "execution_count": 49,
   "outputs": [
    {
     "data": {
      "text/plain": "Counter({0: 100, 1: 100})"
     },
     "execution_count": 49,
     "metadata": {},
     "output_type": "execute_result"
    }
   ],
   "source": [
    "Counter(y_train)"
   ],
   "metadata": {
    "collapsed": false,
    "ExecuteTime": {
     "end_time": "2023-08-21T17:38:21.146925293Z",
     "start_time": "2023-08-21T17:38:21.122054627Z"
    }
   },
   "id": "4bc0e0ef271ef58"
  },
  {
   "cell_type": "markdown",
   "source": [
    "Predict the corpus subset.  The prediction of this small corpus should have an AUC near 1."
   ],
   "metadata": {
    "collapsed": false
   },
   "id": "1afe49a86741984d"
  },
  {
   "cell_type": "markdown",
   "source": [
    "With only 200 samples, Calf demonstrates poor skill at predicting sentiment in the training data after having learned the limited corpus.   There needs to be more training data."
   ],
   "metadata": {
    "collapsed": false
   },
   "id": "b6e5f6bccbf9d950"
  },
  {
   "cell_type": "code",
   "execution_count": 50,
   "outputs": [
    {
     "data": {
      "text/plain": "0.87"
     },
     "execution_count": 50,
     "metadata": {},
     "output_type": "execute_result"
    }
   ],
   "source": [
    "clf = Calf(order_col=True).fit(X_train, y_train)\n",
    "y_pred = clf.predict(X_train)\n",
    "roc_auc_score(y_train, y_pred)"
   ],
   "metadata": {
    "collapsed": false,
    "ExecuteTime": {
     "end_time": "2023-08-21T17:38:36.671905246Z",
     "start_time": "2023-08-21T17:38:21.129277224Z"
    }
   },
   "id": "bd2a0af6c51b8db5"
  },
  {
   "cell_type": "markdown",
   "source": [
    "Calf demonstrates skill at learning the testing data."
   ],
   "metadata": {
    "collapsed": false
   },
   "id": "6d28d972a453b274"
  },
  {
   "cell_type": "code",
   "execution_count": 51,
   "outputs": [
    {
     "data": {
      "text/plain": "0.9"
     },
     "execution_count": 51,
     "metadata": {},
     "output_type": "execute_result"
    }
   ],
   "source": [
    "clf = Calf(order_col=True).fit(X_test, y_test)\n",
    "y_pred = clf.predict(X_test)\n",
    "roc_auc_score(y_test, y_pred)"
   ],
   "metadata": {
    "collapsed": false,
    "ExecuteTime": {
     "end_time": "2023-08-21T17:38:52.426505904Z",
     "start_time": "2023-08-21T17:38:36.625419055Z"
    }
   },
   "id": "892239d33b04dd22"
  },
  {
   "cell_type": "markdown",
   "source": [
    "### Predict unseen sentiment\n",
    "\n",
    "Calf does not have enough training data to show skill predicting the unseen testing set"
   ],
   "metadata": {
    "collapsed": false
   },
   "id": "dac0058c481746b2"
  },
  {
   "cell_type": "code",
   "execution_count": 52,
   "outputs": [
    {
     "data": {
      "text/plain": "0.6799999999999999"
     },
     "execution_count": 52,
     "metadata": {},
     "output_type": "execute_result"
    }
   ],
   "source": [
    "clf = Calf(order_col=True).fit(X_train, y_train)\n",
    "y_pred = clf.predict(X_test)\n",
    "roc_auc_score(y_test, y_pred)"
   ],
   "metadata": {
    "collapsed": false,
    "ExecuteTime": {
     "end_time": "2023-08-21T17:39:08.049550624Z",
     "start_time": "2023-08-21T17:38:52.336560039Z"
    }
   },
   "id": "a88a4339f60541a0"
  },
  {
   "cell_type": "markdown",
   "source": [
    "Predict the probability of the sentiment class requires additional training"
   ],
   "metadata": {
    "collapsed": false
   },
   "id": "51495c41408004f5"
  },
  {
   "cell_type": "code",
   "execution_count": 39,
   "outputs": [
    {
     "data": {
      "text/plain": "0.7424"
     },
     "execution_count": 39,
     "metadata": {},
     "output_type": "execute_result"
    }
   ],
   "source": [
    "y_pred = clf.predict_proba(X_test)[:, 1]\n",
    "roc_auc_score(y_test, y_pred)"
   ],
   "metadata": {
    "collapsed": false,
    "ExecuteTime": {
     "end_time": "2023-08-21T14:27:25.246894853Z",
     "start_time": "2023-08-21T14:27:25.154436246Z"
    }
   },
   "id": "94fd7c20dde7c19c"
  },
  {
   "cell_type": "markdown",
   "source": [
    "## Predict positive and negative sentiment"
   ],
   "metadata": {
    "collapsed": false
   },
   "id": "7c7057570c921745"
  },
  {
   "cell_type": "code",
   "execution_count": null,
   "outputs": [],
   "source": [
    "X_train, X_test, y_train, y_test = train_test_split(\n",
    "    X, y, \n",
    "    train_size=.8,\n",
    "    test_size=.2,\n",
    "    stratify=y, \n",
    "    random_state=42\n",
    ")"
   ],
   "metadata": {
    "collapsed": false,
    "ExecuteTime": {
     "start_time": "2023-08-21T14:00:46.603899153Z"
    }
   },
   "id": "307acb6147f93f6d"
  },
  {
   "cell_type": "code",
   "execution_count": null,
   "outputs": [],
   "source": [
    "Counter(y_train)"
   ],
   "metadata": {
    "collapsed": false,
    "ExecuteTime": {
     "start_time": "2023-08-21T14:00:46.604509163Z"
    }
   },
   "id": "10d4c21b0976fd4b"
  },
  {
   "cell_type": "code",
   "execution_count": null,
   "outputs": [],
   "source": [
    "Counter(y_test)"
   ],
   "metadata": {
    "collapsed": false,
    "ExecuteTime": {
     "start_time": "2023-08-21T14:00:46.605126818Z"
    }
   },
   "id": "715c27d60ec9e902"
  },
  {
   "cell_type": "markdown",
   "source": [
    "Fit Calf"
   ],
   "metadata": {
    "collapsed": false
   },
   "id": "19e6f31ee83eb507"
  },
  {
   "cell_type": "code",
   "execution_count": null,
   "outputs": [],
   "source": [
    "clf_calf = Calf(order_col=True, verbose=True).fit(X_train, y_train)"
   ],
   "metadata": {
    "collapsed": false,
    "ExecuteTime": {
     "start_time": "2023-08-21T14:00:46.605653388Z"
    }
   },
   "id": "483aa2b054a81a86"
  },
  {
   "cell_type": "code",
   "execution_count": null,
   "outputs": [],
   "source": [
    "len(clf_calf.feature_index_)"
   ],
   "metadata": {
    "collapsed": false,
    "ExecuteTime": {
     "start_time": "2023-08-21T14:00:46.606010980Z"
    }
   },
   "id": "18af046b957aadd8"
  },
  {
   "cell_type": "markdown",
   "source": [
    "Predict on unseen data"
   ],
   "metadata": {
    "collapsed": false
   },
   "id": "7daaf8ea57b5af9f"
  },
  {
   "cell_type": "code",
   "execution_count": null,
   "outputs": [],
   "source": [
    "y_pred = clf_calf.predict(X_test)\n",
    "print('Calf auc on unseen, test data, class', roc_auc_score(y_test, y_pred))\n",
    "\n",
    "y_pred = clf_calf.predict_proba(X_test)[:, 1]\n",
    "print('Calf auc on unseen, test data, prob ', roc_auc_score(y_test, y_pred))\n",
    "\n",
    "# fit LogisticRegression\n",
    "clf_lr = LogisticRegression(C=4.95, n_jobs=5, max_iter=100000).fit(X_train, y_train)\n",
    "# test on unseen data\n",
    "y_pred = clf_lr.predict(X_test)\n",
    "print('LogisticRegression auc on unseen, test data, class ', roc_auc_score(y_test, y_pred))\n",
    "\n",
    "y_pred = clf_lr.predict_proba(X_test)[:, 1]\n",
    "print('LogisticRegression auc on unseen, test data, proba ', roc_auc_score(y_test, y_pred))"
   ],
   "metadata": {
    "collapsed": false,
    "ExecuteTime": {
     "start_time": "2023-08-21T14:00:46.606390954Z"
    }
   },
   "id": "f1b9c238578813d0"
  },
  {
   "cell_type": "markdown",
   "source": [
    "### References"
   ],
   "metadata": {
    "collapsed": false
   },
   "id": "1c8ff92b10608012"
  },
  {
   "cell_type": "markdown",
   "source": [
    "\n",
    "[1] Andrew L. Maas, Raymond E. Daly, Peter T. Pham, Dan Huang, Andrew Y. Ng, and Christopher Potts. 2011. Learning Word Vectors for Sentiment Analysis. In Proceedings of the 49th Annual Meeting of the Association for Computational Linguistics: Human Language Technologies, pages 142–150, Portland, Oregon, USA. Association for Computational Linguistics.  [Learning Word Vectors for Sentiment Analysis](https://aclanthology.org/P11-1015) (Maas et al., ACL 2011)"
   ],
   "metadata": {
    "collapsed": false
   },
   "id": "a1081f95b9396e8e"
  }
 ],
 "metadata": {
  "kernelspec": {
   "display_name": "Python 3",
   "language": "python",
   "name": "python3"
  },
  "language_info": {
   "codemirror_mode": {
    "name": "ipython",
    "version": 2
   },
   "file_extension": ".py",
   "mimetype": "text/x-python",
   "name": "python",
   "nbconvert_exporter": "python",
   "pygments_lexer": "ipython2",
   "version": "2.7.6"
  }
 },
 "nbformat": 4,
 "nbformat_minor": 5
}
