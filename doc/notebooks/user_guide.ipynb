{
 "cells": [
  {
   "cell_type": "markdown",
   "source": [
    "# User Guide\n",
    "\n",
    " Author: Rolf Carlson, Carlson Research LLC, <hrolfrc@gmail.com>, License: 3-clause BSD"
   ],
   "metadata": {
    "collapsed": false
   },
   "id": "43f09e24179a7f59"
  },
  {
   "cell_type": "markdown",
   "source": [
    "## Make a classification problem"
   ],
   "metadata": {
    "collapsed": false
   },
   "id": "1e27f8313d2a1d91"
  },
  {
   "cell_type": "code",
   "execution_count": 1,
   "outputs": [],
   "source": [
    "from sklearn.datasets import make_classification\n",
    "from sklearn.model_selection import train_test_split\n",
    "import numpy as np\n",
    "import pandas as pd\n",
    "from sklearn.metrics import roc_auc_score\n",
    "from calfcv import CalfCV"
   ],
   "metadata": {
    "collapsed": false,
    "ExecuteTime": {
     "end_time": "2023-08-07T01:44:46.588316279Z",
     "start_time": "2023-08-07T01:44:45.669507216Z"
    }
   },
   "id": "5f8ff579f960466f"
  },
  {
   "cell_type": "code",
   "execution_count": 2,
   "outputs": [],
   "source": [
    "seed = 45\n",
    "X, y = make_classification(\n",
    "    n_samples=100,\n",
    "    n_features=5,\n",
    "    n_informative=2,\n",
    "    n_redundant=2,\n",
    "    n_classes=2,\n",
    "    random_state=seed\n",
    ")\n",
    "X_train, X_test, y_train, y_test = train_test_split(X, y, random_state=seed)"
   ],
   "metadata": {
    "collapsed": false,
    "ExecuteTime": {
     "end_time": "2023-08-07T01:44:46.641007392Z",
     "start_time": "2023-08-07T01:44:46.629333523Z"
    }
   },
   "id": "3fc2e64e076e8af8"
  },
  {
   "cell_type": "markdown",
   "source": [
    "### Train the classifier "
   ],
   "metadata": {
    "collapsed": false
   },
   "id": "1cff0b3722c8d3cd"
  },
  {
   "cell_type": "code",
   "execution_count": 3,
   "outputs": [],
   "source": [
    "cls = CalfCV().fit(X_train, y_train)"
   ],
   "metadata": {
    "collapsed": false,
    "ExecuteTime": {
     "end_time": "2023-08-07T01:44:46.734841301Z",
     "start_time": "2023-08-07T01:44:46.629653689Z"
    }
   },
   "id": "ac3be262ca6f298a"
  },
  {
   "cell_type": "markdown",
   "source": [
    "#### Get the score for class prediction on unseen data"
   ],
   "metadata": {
    "collapsed": false
   },
   "id": "7b5167b9aa297f73"
  },
  {
   "cell_type": "code",
   "execution_count": 4,
   "outputs": [
    {
     "data": {
      "text/plain": "0.92"
     },
     "execution_count": 4,
     "metadata": {},
     "output_type": "execute_result"
    }
   ],
   "source": [
    "cls.score(X_test, y_test)"
   ],
   "metadata": {
    "collapsed": false,
    "ExecuteTime": {
     "end_time": "2023-08-07T01:44:46.735787572Z",
     "start_time": "2023-08-07T01:44:46.720551753Z"
    }
   },
   "id": "b5f36c9e0d813e5e"
  },
  {
   "cell_type": "markdown",
   "source": [
    "#### Class probabilities\n",
    "We vertically stack the ground truth on the top with the probabilities of class 1 on the bottom.\n",
    "The first five entries are shown. "
   ],
   "metadata": {
    "collapsed": false
   },
   "id": "bc18a50bba0f6447"
  },
  {
   "cell_type": "code",
   "execution_count": 5,
   "outputs": [
    {
     "data": {
      "text/plain": "array([[1.  , 1.  , 0.  , 0.  , 0.  ],\n       [0.21, 0.46, 1.  , 0.8 , 0.71],\n       [0.79, 0.54, 0.  , 0.2 , 0.29]])"
     },
     "execution_count": 5,
     "metadata": {},
     "output_type": "execute_result"
    }
   ],
   "source": [
    "np.round(np.vstack((y_train, cls.predict_proba(X_train).T))[:, 0:5], 2)"
   ],
   "metadata": {
    "collapsed": false,
    "ExecuteTime": {
     "end_time": "2023-08-07T01:44:46.740588674Z",
     "start_time": "2023-08-07T01:44:46.730657601Z"
    }
   },
   "id": "f21f37c94be9a177"
  },
  {
   "cell_type": "code",
   "execution_count": 6,
   "outputs": [
    {
     "data": {
      "text/plain": "0.9722617354196301"
     },
     "execution_count": 6,
     "metadata": {},
     "output_type": "execute_result"
    }
   ],
   "source": [
    "roc_auc_score(y_true=y_train, y_score=cls.predict_proba(X_train)[:, 1])"
   ],
   "metadata": {
    "collapsed": false,
    "ExecuteTime": {
     "end_time": "2023-08-07T01:44:46.766380691Z",
     "start_time": "2023-08-07T01:44:46.740064897Z"
    }
   },
   "id": "b7c74c1e8f6811f5"
  },
  {
   "cell_type": "markdown",
   "source": [
    "#### Predict the classes\n",
    "The ground truth is on the top and the predicted classes are on the bottom.\n",
    "The first five entries are shown."
   ],
   "metadata": {
    "collapsed": false
   },
   "id": "3d89a80afd8923f3"
  },
  {
   "cell_type": "code",
   "execution_count": 7,
   "outputs": [
    {
     "data": {
      "text/plain": "array([[0, 0, 0, 1, 0],\n       [0, 0, 0, 1, 0]])"
     },
     "execution_count": 7,
     "metadata": {},
     "output_type": "execute_result"
    }
   ],
   "source": [
    "y_pred = cls.predict(X_test)\n",
    "np.vstack((y_test, y_pred))[:, 0:5]"
   ],
   "metadata": {
    "collapsed": false,
    "ExecuteTime": {
     "end_time": "2023-08-07T01:44:46.809403745Z",
     "start_time": "2023-08-07T01:44:46.789274175Z"
    }
   },
   "id": "e4da094cd33d90c2"
  },
  {
   "cell_type": "markdown",
   "source": [
    "The class prediction is expected to be lower than the auc prediction."
   ],
   "metadata": {
    "collapsed": false
   },
   "id": "5566d8e9ca6f146e"
  },
  {
   "cell_type": "code",
   "execution_count": 8,
   "outputs": [
    {
     "data": {
      "text/plain": "0.9198717948717948"
     },
     "execution_count": 8,
     "metadata": {},
     "output_type": "execute_result"
    }
   ],
   "source": [
    "roc_auc_score(y_true=y_test, y_score=y_pred)"
   ],
   "metadata": {
    "collapsed": false,
    "ExecuteTime": {
     "end_time": "2023-08-07T01:44:46.809862068Z",
     "start_time": "2023-08-07T01:44:46.789485568Z"
    }
   },
   "id": "37d1289039d27501"
  },
  {
   "cell_type": "markdown",
   "source": [
    "## Reproduce the AUC from example of the Calf paper [1]\n",
    "\n",
    "While calfpy yields an auc of 0.875 in example 1 from the paper, calfcv produces an auc of 0.9796875."
   ],
   "metadata": {
    "collapsed": false
   },
   "id": "5220d426b336d76b"
  },
  {
   "cell_type": "code",
   "execution_count": 9,
   "outputs": [],
   "source": [
    "input_file = \"../../data/n2.csv\"\n",
    "df = pd.read_csv(input_file, header=0, sep=\",\")\n",
    "\n",
    "# The input data is everything except the first column\n",
    "X = df.loc[:, df.columns != 'ctrl/case']\n",
    "# The outcome or diagnoses are in the first ctrl/case column\n",
    "Y = df['ctrl/case']\n",
    "\n",
    "# The header row is the feature set\n",
    "features = list(X.columns)\n",
    "\n",
    "# label the outcomes\n",
    "Y_names = Y.replace({0: 'non_psychotic', 1: 'pre_psychotic'})\n",
    "\n",
    "# glmnet requires float64\n",
    "x = X.to_numpy(dtype='float64')\n",
    "y = Y.to_numpy(dtype='float64')\n"
   ],
   "metadata": {
    "collapsed": false,
    "ExecuteTime": {
     "end_time": "2023-08-07T01:44:46.810082810Z",
     "start_time": "2023-08-07T01:44:46.789659549Z"
    }
   },
   "id": "24e44f16d91236f4"
  },
  {
   "cell_type": "markdown",
   "source": [
    "### Features\n",
    "\n",
    "Here we look at the feature names, number of features, shape, category balance, and probability of choosing the positive category by chance."
   ],
   "metadata": {
    "collapsed": false
   },
   "id": "833140d522b6ff9e"
  },
  {
   "cell_type": "code",
   "execution_count": 10,
   "outputs": [
    {
     "data": {
      "text/plain": "['ADIPOQ', 'SERPINA3', 'AMBP', 'A2M', 'ACE']"
     },
     "execution_count": 10,
     "metadata": {},
     "output_type": "execute_result"
    }
   ],
   "source": [
    "features[0:5]"
   ],
   "metadata": {
    "collapsed": false,
    "ExecuteTime": {
     "end_time": "2023-08-07T01:44:46.875754803Z",
     "start_time": "2023-08-07T01:44:46.789809109Z"
    }
   },
   "id": "5e995ac756b7c5ac"
  },
  {
   "cell_type": "code",
   "execution_count": 11,
   "outputs": [
    {
     "data": {
      "text/plain": "9720"
     },
     "execution_count": 11,
     "metadata": {},
     "output_type": "execute_result"
    }
   ],
   "source": [
    "x.size"
   ],
   "metadata": {
    "collapsed": false,
    "ExecuteTime": {
     "end_time": "2023-08-07T01:44:46.876135077Z",
     "start_time": "2023-08-07T01:44:46.833396041Z"
    }
   },
   "id": "2f70ad6221a4841f"
  },
  {
   "cell_type": "code",
   "execution_count": 12,
   "outputs": [
    {
     "data": {
      "text/plain": "(72, 135)"
     },
     "execution_count": 12,
     "metadata": {},
     "output_type": "execute_result"
    }
   ],
   "source": [
    "x.shape"
   ],
   "metadata": {
    "collapsed": false,
    "ExecuteTime": {
     "end_time": "2023-08-07T01:44:46.876462250Z",
     "start_time": "2023-08-07T01:44:46.833581145Z"
    }
   },
   "id": "cdfa56a02413b924"
  },
  {
   "cell_type": "markdown",
   "source": [
    "### Category Balance"
   ],
   "metadata": {
    "collapsed": false
   },
   "id": "a4d70b8a86ce2bc7"
  },
  {
   "cell_type": "code",
   "execution_count": 13,
   "outputs": [
    {
     "name": "stdout",
     "output_type": "stream",
     "text": [
      "32 40\n"
     ]
    }
   ],
   "source": [
    "print(list(Y).count(1), list(Y).count(0))"
   ],
   "metadata": {
    "collapsed": false,
    "ExecuteTime": {
     "end_time": "2023-08-07T01:44:46.876753712Z",
     "start_time": "2023-08-07T01:44:46.833748766Z"
    }
   },
   "id": "60c4224f38e9d744"
  },
  {
   "cell_type": "code",
   "execution_count": 14,
   "outputs": [
    {
     "data": {
      "text/plain": "72"
     },
     "execution_count": 14,
     "metadata": {},
     "output_type": "execute_result"
    }
   ],
   "source": [
    "len(y)"
   ],
   "metadata": {
    "collapsed": false,
    "ExecuteTime": {
     "end_time": "2023-08-07T01:44:46.877090235Z",
     "start_time": "2023-08-07T01:44:46.833915702Z"
    }
   },
   "id": "b655041b7950fd12"
  },
  {
   "cell_type": "markdown",
   "source": [
    "### AUC improvement\n",
    "\n",
    "CalfCV improves on the calfpy auc of 0.875 from example 1 of the paper. "
   ],
   "metadata": {
    "collapsed": false
   },
   "id": "27a2b47b049ceb18"
  },
  {
   "cell_type": "code",
   "execution_count": 15,
   "outputs": [
    {
     "data": {
      "text/plain": "0.9796875"
     },
     "execution_count": 15,
     "metadata": {},
     "output_type": "execute_result"
    }
   ],
   "source": [
    "y_pred = CalfCV().fit(x, y).predict_proba(x)\n",
    "roc_auc_score(y, y_pred[:, 1])"
   ],
   "metadata": {
    "collapsed": false,
    "ExecuteTime": {
     "end_time": "2023-08-07T01:44:48.632093268Z",
     "start_time": "2023-08-07T01:44:46.834081674Z"
    }
   },
   "id": "93c6e7095e7919e8"
  },
  {
   "cell_type": "markdown",
   "source": [
    "## References"
   ],
   "metadata": {
    "collapsed": false
   },
   "id": "8e766e7d9a9bd2e4"
  },
  {
   "cell_type": "markdown",
   "source": [
    "[1] Jeffries, C.D., Ford, J.R., Tilson, J.L. et al. A greedy regression algorithm with coarse weights offers novel advantages. Sci Rep 12, 5440 (2022). https://doi.org/10.1038/s41598-022-09415-2"
   ],
   "metadata": {
    "collapsed": false
   },
   "id": "7e62c32de205ab62"
  }
 ],
 "metadata": {
  "kernelspec": {
   "display_name": "Python 3",
   "language": "python",
   "name": "python3"
  },
  "language_info": {
   "codemirror_mode": {
    "name": "ipython",
    "version": 2
   },
   "file_extension": ".py",
   "mimetype": "text/x-python",
   "name": "python",
   "nbconvert_exporter": "python",
   "pygments_lexer": "ipython2",
   "version": "2.7.6"
  }
 },
 "nbformat": 4,
 "nbformat_minor": 5
}
