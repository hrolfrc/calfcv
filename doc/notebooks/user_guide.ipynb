{
 "cells": [
  {
   "cell_type": "markdown",
   "source": [
    "# User Guide\n",
    "\n",
    " Author: Rolf Carlson, Carlson Research LLC, <hrolfrc@gmail.com>, License: 3-clause BSD"
   ],
   "metadata": {
    "collapsed": false
   },
   "id": "43f09e24179a7f59"
  },
  {
   "cell_type": "markdown",
   "source": [
    "### Make a classification problem"
   ],
   "metadata": {
    "collapsed": false
   },
   "id": "1e27f8313d2a1d91"
  },
  {
   "cell_type": "code",
   "execution_count": 32,
   "outputs": [],
   "source": [
    "from sklearn.datasets import make_classification\n",
    "from sklearn.model_selection import train_test_split\n",
    "import numpy as np\n",
    "import pandas as pd\n",
    "from sklearn.metrics import roc_auc_score\n",
    "from calfcv import CalfCV"
   ],
   "metadata": {
    "collapsed": false,
    "ExecuteTime": {
     "end_time": "2023-08-18T01:47:19.907015968Z",
     "start_time": "2023-08-18T01:47:19.805817816Z"
    }
   },
   "id": "5f8ff579f960466f"
  },
  {
   "cell_type": "code",
   "execution_count": 33,
   "outputs": [],
   "source": [
    "seed = 45\n",
    "X, y = make_classification(\n",
    "    n_samples=100,\n",
    "    n_features=5,\n",
    "    n_informative=2,\n",
    "    n_redundant=2,\n",
    "    n_classes=2,\n",
    "    random_state=seed\n",
    ")\n",
    "X_train, X_test, y_train, y_test = train_test_split(X, y, random_state=seed)"
   ],
   "metadata": {
    "collapsed": false,
    "ExecuteTime": {
     "end_time": "2023-08-18T01:47:19.965161207Z",
     "start_time": "2023-08-18T01:47:19.813453745Z"
    }
   },
   "id": "3fc2e64e076e8af8"
  },
  {
   "cell_type": "markdown",
   "source": [
    "### Train and predict "
   ],
   "metadata": {
    "collapsed": false
   },
   "id": "1cff0b3722c8d3cd"
  },
  {
   "cell_type": "code",
   "execution_count": 34,
   "outputs": [],
   "source": [
    "cls = CalfCV().fit(X_train, y_train)"
   ],
   "metadata": {
    "collapsed": false,
    "ExecuteTime": {
     "end_time": "2023-08-18T01:47:20.022010473Z",
     "start_time": "2023-08-18T01:47:19.838106385Z"
    }
   },
   "id": "ac3be262ca6f298a"
  },
  {
   "cell_type": "markdown",
   "source": [
    "#### The score for unseen data"
   ],
   "metadata": {
    "collapsed": false
   },
   "id": "7b5167b9aa297f73"
  },
  {
   "cell_type": "code",
   "execution_count": 35,
   "outputs": [
    {
     "data": {
      "text/plain": "0.92"
     },
     "execution_count": 35,
     "metadata": {},
     "output_type": "execute_result"
    }
   ],
   "source": [
    "cls.score(X_test, y_test)"
   ],
   "metadata": {
    "collapsed": false,
    "ExecuteTime": {
     "end_time": "2023-08-18T01:47:20.022860438Z",
     "start_time": "2023-08-18T01:47:20.006783669Z"
    }
   },
   "id": "b5f36c9e0d813e5e"
  },
  {
   "cell_type": "markdown",
   "source": [
    "#### Class probabilities\n",
    "We vertically stack the ground truth on the top with the probabilities of class 1 on the bottom.\n",
    "The first five entries are shown. "
   ],
   "metadata": {
    "collapsed": false
   },
   "id": "bc18a50bba0f6447"
  },
  {
   "cell_type": "code",
   "execution_count": 36,
   "outputs": [
    {
     "data": {
      "text/plain": "array([[1.  , 1.  , 0.  , 0.  , 0.  ],\n       [0.35, 0.49, 0.73, 0.65, 0.59],\n       [0.65, 0.51, 0.27, 0.35, 0.41]])"
     },
     "execution_count": 36,
     "metadata": {},
     "output_type": "execute_result"
    }
   ],
   "source": [
    "np.round(np.vstack((y_train, cls.predict_proba(X_train).T))[:, 0:5], 2)"
   ],
   "metadata": {
    "collapsed": false,
    "ExecuteTime": {
     "end_time": "2023-08-18T01:47:20.023456233Z",
     "start_time": "2023-08-18T01:47:20.013640585Z"
    }
   },
   "id": "f21f37c94be9a177"
  },
  {
   "cell_type": "code",
   "execution_count": 37,
   "outputs": [
    {
     "data": {
      "text/plain": "0.968705547652916"
     },
     "execution_count": 37,
     "metadata": {},
     "output_type": "execute_result"
    }
   ],
   "source": [
    "roc_auc_score(y_true=y_train, y_score=cls.predict_proba(X_train)[:, 1])"
   ],
   "metadata": {
    "collapsed": false,
    "ExecuteTime": {
     "end_time": "2023-08-18T01:47:20.082188788Z",
     "start_time": "2023-08-18T01:47:20.024190864Z"
    }
   },
   "id": "b7c74c1e8f6811f5"
  },
  {
   "cell_type": "markdown",
   "source": [
    "#### Predict the classes\n",
    "The ground truth is on the top and the predicted classes are on the bottom.\n",
    "The first five entries are shown."
   ],
   "metadata": {
    "collapsed": false
   },
   "id": "3d89a80afd8923f3"
  },
  {
   "cell_type": "code",
   "execution_count": 38,
   "outputs": [
    {
     "data": {
      "text/plain": "array([[0, 0, 0, 1, 0],\n       [0, 0, 0, 1, 0]])"
     },
     "execution_count": 38,
     "metadata": {},
     "output_type": "execute_result"
    }
   ],
   "source": [
    "y_pred = cls.predict(X_test)\n",
    "np.vstack((y_test, y_pred))[:, 0:5]"
   ],
   "metadata": {
    "collapsed": false,
    "ExecuteTime": {
     "end_time": "2023-08-18T01:47:20.082717283Z",
     "start_time": "2023-08-18T01:47:20.065063606Z"
    }
   },
   "id": "e4da094cd33d90c2"
  },
  {
   "cell_type": "markdown",
   "source": [
    "The class prediction is expected to be lower than the probability prediction."
   ],
   "metadata": {
    "collapsed": false
   },
   "id": "5566d8e9ca6f146e"
  },
  {
   "cell_type": "code",
   "execution_count": 39,
   "outputs": [
    {
     "data": {
      "text/plain": "0.9198717948717948"
     },
     "execution_count": 39,
     "metadata": {},
     "output_type": "execute_result"
    }
   ],
   "source": [
    "roc_auc_score(y_true=y_test, y_score=y_pred)"
   ],
   "metadata": {
    "collapsed": false,
    "ExecuteTime": {
     "end_time": "2023-08-18T01:47:20.083189265Z",
     "start_time": "2023-08-18T01:47:20.065318350Z"
    }
   },
   "id": "37d1289039d27501"
  }
 ],
 "metadata": {
  "kernelspec": {
   "display_name": "Python 3",
   "language": "python",
   "name": "python3"
  },
  "language_info": {
   "codemirror_mode": {
    "name": "ipython",
    "version": 2
   },
   "file_extension": ".py",
   "mimetype": "text/x-python",
   "name": "python",
   "nbconvert_exporter": "python",
   "pygments_lexer": "ipython2",
   "version": "2.7.6"
  }
 },
 "nbformat": 4,
 "nbformat_minor": 5
}
