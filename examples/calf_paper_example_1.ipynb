{
 "cells": [
  {
   "cell_type": "markdown",
   "source": [
    "# Reproduce the AUC from example of the Calf paper [1]\n",
    "\n",
    "While calfpy yields an auc of 0.875 in example 1 from the paper, calfcv produces an auc of 0.9796875.\n",
    "\n",
    "===========\n",
    "References:\n",
    "\n",
    "Jeffries, C.D., Ford, J.R., Tilson, J.L. et al. A greedy regression algorithm with coarse weights offers novel advantages. Sci Rep 12, 5440 (2022). https://doi.org/10.1038/s41598-022-09415-2"
   ],
   "metadata": {
    "collapsed": false
   }
  },
  {
   "cell_type": "markdown",
   "source": [],
   "metadata": {
    "collapsed": false
   }
  },
  {
   "cell_type": "code",
   "execution_count": 9,
   "metadata": {
    "collapsed": false,
    "ExecuteTime": {
     "end_time": "2023-08-06T14:06:53.437214997Z",
     "start_time": "2023-08-06T14:06:53.285356485Z"
    }
   },
   "outputs": [],
   "source": [
    "import pandas as pd\n",
    "from sklearn.metrics import roc_auc_score\n",
    "from calfcv import CalfCV"
   ]
  },
  {
   "cell_type": "markdown",
   "source": [],
   "metadata": {
    "collapsed": false
   }
  },
  {
   "cell_type": "code",
   "execution_count": 10,
   "outputs": [],
   "source": [
    "input_file = \"../data/n2.csv\"\n",
    "df = pd.read_csv(input_file, header=0, sep=\",\")\n",
    "\n",
    "# The input data is everything except the first column\n",
    "X = df.loc[:, df.columns != 'ctrl/case']\n",
    "# The outcome or diagnoses are in the first ctrl/case column\n",
    "Y = df['ctrl/case']\n",
    "\n",
    "# The header row is the feature set\n",
    "features = list(X.columns)\n",
    "\n",
    "# label the outcomes\n",
    "Y_names = Y.replace({0: 'non_psychotic', 1: 'pre_psychotic'})\n",
    "\n",
    "# glmnet requires float64\n",
    "x = X.to_numpy(dtype='float64')\n",
    "y = Y.to_numpy(dtype='float64')\n"
   ],
   "metadata": {
    "collapsed": false,
    "ExecuteTime": {
     "end_time": "2023-08-06T14:06:53.506998784Z",
     "start_time": "2023-08-06T14:06:53.293678123Z"
    }
   }
  },
  {
   "cell_type": "markdown",
   "source": [
    "### Features\n",
    "\n",
    "Here we look at the feature names, number of features, shape, category balance, and probability of choosing the positive category by chance."
   ],
   "metadata": {
    "collapsed": false
   }
  },
  {
   "cell_type": "code",
   "execution_count": 11,
   "outputs": [
    {
     "data": {
      "text/plain": "['ADIPOQ', 'SERPINA3', 'AMBP', 'A2M', 'ACE']"
     },
     "execution_count": 11,
     "metadata": {},
     "output_type": "execute_result"
    }
   ],
   "source": [
    "features[0:5]"
   ],
   "metadata": {
    "collapsed": false,
    "ExecuteTime": {
     "end_time": "2023-08-06T14:06:53.507505750Z",
     "start_time": "2023-08-06T14:06:53.337397440Z"
    }
   }
  },
  {
   "cell_type": "code",
   "execution_count": 12,
   "outputs": [
    {
     "data": {
      "text/plain": "9720"
     },
     "execution_count": 12,
     "metadata": {},
     "output_type": "execute_result"
    }
   ],
   "source": [
    "x.size"
   ],
   "metadata": {
    "collapsed": false,
    "ExecuteTime": {
     "end_time": "2023-08-06T14:06:53.530069714Z",
     "start_time": "2023-08-06T14:06:53.337587255Z"
    }
   }
  },
  {
   "cell_type": "code",
   "execution_count": 13,
   "outputs": [
    {
     "data": {
      "text/plain": "(72, 135)"
     },
     "execution_count": 13,
     "metadata": {},
     "output_type": "execute_result"
    }
   ],
   "source": [
    "x.shape"
   ],
   "metadata": {
    "collapsed": false,
    "ExecuteTime": {
     "end_time": "2023-08-06T14:06:53.530480890Z",
     "start_time": "2023-08-06T14:06:53.381401411Z"
    }
   }
  },
  {
   "cell_type": "markdown",
   "source": [
    "## Category Balance"
   ],
   "metadata": {
    "collapsed": false
   }
  },
  {
   "cell_type": "code",
   "execution_count": 14,
   "outputs": [
    {
     "name": "stdout",
     "output_type": "stream",
     "text": [
      "32 40\n"
     ]
    }
   ],
   "source": [
    "print(list(Y).count(1), list(Y).count(0))"
   ],
   "metadata": {
    "collapsed": false,
    "ExecuteTime": {
     "end_time": "2023-08-06T14:06:53.530814263Z",
     "start_time": "2023-08-06T14:06:53.381570593Z"
    }
   }
  },
  {
   "cell_type": "code",
   "execution_count": 15,
   "outputs": [
    {
     "data": {
      "text/plain": "72"
     },
     "execution_count": 15,
     "metadata": {},
     "output_type": "execute_result"
    }
   ],
   "source": [
    "len(y)"
   ],
   "metadata": {
    "collapsed": false,
    "ExecuteTime": {
     "end_time": "2023-08-06T14:06:53.531181185Z",
     "start_time": "2023-08-06T14:06:53.381709570Z"
    }
   }
  },
  {
   "cell_type": "markdown",
   "source": [
    "CalfCV improves on the calfpy auc of 0.875 from example 1 of the paper. "
   ],
   "metadata": {
    "collapsed": false
   }
  },
  {
   "cell_type": "code",
   "execution_count": 16,
   "outputs": [
    {
     "data": {
      "text/plain": "0.9796875"
     },
     "execution_count": 16,
     "metadata": {},
     "output_type": "execute_result"
    }
   ],
   "source": [
    "y_pred = CalfCV().fit(x, y).predict_proba(x)\n",
    "roc_auc_score(y, y_pred[:, 1])"
   ],
   "metadata": {
    "collapsed": false,
    "ExecuteTime": {
     "end_time": "2023-08-06T14:06:55.375470876Z",
     "start_time": "2023-08-06T14:06:53.381833705Z"
    }
   }
  }
 ],
 "metadata": {
  "celltoolbar": "Raw Cell Format",
  "kernelspec": {
   "display_name": "Python 3",
   "language": "python",
   "name": "python3"
  },
  "language_info": {
   "codemirror_mode": {
    "name": "ipython",
    "version": 3
   },
   "file_extension": ".py",
   "mimetype": "text/x-python",
   "name": "python",
   "nbconvert_exporter": "python",
   "pygments_lexer": "ipython3",
   "version": "3.5.2"
  }
 },
 "nbformat": 4,
 "nbformat_minor": 0
}
